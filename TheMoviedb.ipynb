{
  "nbformat": 4,
  "nbformat_minor": 0,
  "metadata": {
    "colab": {
      "name": "Tanvi_101903055_API_(b,_c).ipynb",
      "provenance": []
    },
    "kernelspec": {
      "name": "python3",
      "display_name": "Python 3"
    },
    "language_info": {
      "name": "python"
    }
  },
  "cells": [
    {
      "cell_type": "markdown",
      "source": [
        "***1. Search for movies in the “Comedy” genre released in the year 2000 or later. Retrieve the 300 most popular movies in this genre. The movies should be sorted from most popular to least popular.***"
      ],
      "metadata": {
        "id": "h9MFjI_1iodV"
      }
    },
    {
      "cell_type": "code",
      "metadata": {
        "colab": {
          "base_uri": "https://localhost:8080/"
        },
        "id": "rmJnPLJv8XHV",
        "outputId": "01d4e053-5ec2-4050-dffb-6cc0c74449a7"
      },
      "source": [
        "!pip install requests\n",
        "import requests"
      ],
      "execution_count": null,
      "outputs": [
        {
          "output_type": "stream",
          "name": "stdout",
          "text": [
            "Requirement already satisfied: requests in /usr/local/lib/python3.7/dist-packages (2.23.0)\n",
            "Requirement already satisfied: urllib3!=1.25.0,!=1.25.1,<1.26,>=1.21.1 in /usr/local/lib/python3.7/dist-packages (from requests) (1.24.3)\n",
            "Requirement already satisfied: idna<3,>=2.5 in /usr/local/lib/python3.7/dist-packages (from requests) (2.10)\n",
            "Requirement already satisfied: certifi>=2017.4.17 in /usr/local/lib/python3.7/dist-packages (from requests) (2021.10.8)\n",
            "Requirement already satisfied: chardet<4,>=3.0.2 in /usr/local/lib/python3.7/dist-packages (from requests) (3.0.4)\n"
          ]
        }
      ]
    },
    {
      "cell_type": "markdown",
      "metadata": {
        "id": "r7--uSAO8krR"
      },
      "source": [
        "***Fetching genre ids*** "
      ]
    },
    {
      "cell_type": "code",
      "metadata": {
        "colab": {
          "base_uri": "https://localhost:8080/"
        },
        "id": "7J6jeLQJ8jFj",
        "outputId": "8b8a2187-4591-41c1-d3f0-162fbfde3e0a"
      },
      "source": [
        "genre_id=requests.get('https://api.themoviedb.org/3/genre/movie/list?api_key=a5b80b8c840d63bcf2c2680b94234a5f&language=en-US').json()\n",
        "print(genre_id)"
      ],
      "execution_count": null,
      "outputs": [
        {
          "output_type": "stream",
          "name": "stdout",
          "text": [
            "{'genres': [{'id': 28, 'name': 'Action'}, {'id': 12, 'name': 'Adventure'}, {'id': 16, 'name': 'Animation'}, {'id': 35, 'name': 'Comedy'}, {'id': 80, 'name': 'Crime'}, {'id': 99, 'name': 'Documentary'}, {'id': 18, 'name': 'Drama'}, {'id': 10751, 'name': 'Family'}, {'id': 14, 'name': 'Fantasy'}, {'id': 36, 'name': 'History'}, {'id': 27, 'name': 'Horror'}, {'id': 10402, 'name': 'Music'}, {'id': 9648, 'name': 'Mystery'}, {'id': 10749, 'name': 'Romance'}, {'id': 878, 'name': 'Science Fiction'}, {'id': 10770, 'name': 'TV Movie'}, {'id': 53, 'name': 'Thriller'}, {'id': 10752, 'name': 'War'}, {'id': 37, 'name': 'Western'}]}\n"
          ]
        }
      ]
    },
    {
      "cell_type": "markdown",
      "metadata": {
        "id": "zMxLqi4z9A0_"
      },
      "source": [
        "***Fetching movies with genre id 35(comedy), year of release: 2000 or later***"
      ]
    },
    {
      "cell_type": "code",
      "metadata": {
        "colab": {
          "base_uri": "https://localhost:8080/"
        },
        "id": "6vcW9yAn9Q64",
        "outputId": "b98b62a6-4640-491d-d456-56c26d184efb"
      },
      "source": [
        "table=[]\n",
        "for pages in range(1,16): \n",
        "  comedy_movies_list=requests.get('https://api.themoviedb.org/3/discover/movie?api_key=a5b80b8c840d63bcf2c2680b94234a5f&sort_by=popularity.desc&page='+str(pages)+'&primary_release_year.gte>=2000&with_genres='+str(35)).json()\n",
        "  #the above api request returns only comedy movies one page (20 movies each) at a time.\n",
        "  # print(comedy_movies_list)\n",
        "  results=comedy_movies_list['results']\n",
        "  pg=comedy_movies_list['page']\n",
        "  for i in results:\n",
        "    features=[]\n",
        "    id=i['id']\n",
        "    features.append(id)\n",
        "    movie_name=i['original_title']\n",
        "    features.append(movie_name)\n",
        "    popularity=i['popularity']\n",
        "    features.append(popularity)\n",
        "    features.append(pg)\n",
        "    table.append(features) \n",
        "print(table)"
      ],
      "execution_count": null,
      "outputs": [
        {
          "output_type": "stream",
          "name": "stdout",
          "text": [
            "[[512195, 'Red Notice', 5515.987, 1], [585245, 'Clifford the Big Red Dog', 3116.768, 1], [876716, 'Ciao Alberto', 1880.894, 1], [877183, 'The Simpsons in Plusaversary', 1750.595, 1], [654974, 'Home Sweet Home Alone', 1235.504, 1], [550988, 'Free Guy', 1288.504, 1], [568124, 'Encanto', 1163.898, 1], [459151, 'The Boss Baby: Family Business', 705.234, 1], [639721, 'The Addams Family 2', 673.195, 1], [451048, 'Jungle Cruise', 635.551, 1], [589754, 'Последний богатырь: Корень зла', 671.073, 1], [871964, 'W lesie dziś nie zaśnie nikt 2', 578.59, 1], [508943, 'Luca', 643.556, 1], [762469, 'Father Christmas Is Back', 497.929, 1], [805411, 'Descendants: The Royal Wedding', 596.361, 1], [675445, 'PAW Patrol: The Movie', 572.763, 1], [379686, 'Space Jam: A New Legacy', 546.69, 1], [425909, 'Ghostbusters: Afterlife', 544.722, 1], [337404, 'Cruella', 488.55, 1], [760747, 'I onde dager', 414.682, 1], [885458, 'Detetive Madeinusa', 422.862, 2], [772436, 'Matando Cabos 2: La Máscara del Máscara', 437.416, 2], [529203, 'The Croods: A New Age', 422.648, 2], [846167, 'W jak morderstwo', 459.139, 2], [879163, 'Peçanha Contra o Animal', 375.59, 2], [809065, 'Flashback', 332.563, 2], [726684, 'Miraculous World: Shanghai, la légende de Ladydragon', 348.944, 2], [613098, 'Operación Camarón', 344.522, 2], [711475, 'Here Today', 280.822, 2], [755812, 'Miraculous World : New York, les héros unis', 315.051, 2], [812204, 'Rock Dog 2: Rock Around the Park', 294.323, 2], [785533, 'The Princess Switch 3: Romancing the Star', 319.025, 2], [324857, 'Spider-Man: Into the Spider-Verse', 279.195, 2], [813258, 'Monster Pets: A Hotel Transylvania Short', 282.256, 2], [641501, 'Comment je suis devenu super-héros', 254.235, 2], [840756, 'Mi otra yo', 237.023, 2], [843906, 'Straight Outta Nowhere: Scooby-Doo! Meets Courage the Cowardly Dog', 269.46, 2], [354912, 'Coco', 256.884, 2], [573164, 'Un rescate de huevitos', 247.731, 2], [846214, 'The Simpsons: The Good, the Bart, and the Loki', 237.017, 2], [347201, 'BORUTO -NARUTO THE MOVIE-', 243.107, 3], [587807, 'Tom & Jerry', 229.23, 3], [852663, 'LEGO Monkie Kid: A Hero Is Born', 204.489, 3], [597316, 'My Little Pony: A New Generation', 220.69, 3], [585083, 'Hotel Transylvania: Transformania', 203.142, 3], [522478, 'Peter Rabbit 2: The Runaway', 200.982, 3], [508442, 'Soul', 211.927, 3], [43074, 'Ghostbusters', 165.111, 3], [729720, 'Le Dernier Mercenaire', 211.67, 3], [400160, 'The SpongeBob Movie: Sponge on the Run', 186.863, 3], [449406, 'Vivo', 202.229, 3], [763873, 'Under Wraps', 183.946, 3], [617502, 'Jolt', 198.202, 3], [613583, 'Chacun chez soi', 166.083, 3], [680319, 'We Broke Up', 195.519, 3], [678580, 'El mesero', 185.213, 3], [531219, \"Roald Dahl's The Witches\", 186.445, 3], [550205, 'Wish Dragon', 183.458, 3], [768744, '僕のヒーローアカデミア THE MOVIE ワールド ヒーローズ ミッション', 171.079, 3], [834404, 'Teen Titans Go! See Space Jam', 176.341, 3], [482321, \"Ron's Gone Wrong\", 186.582, 4], [857702, 'LEGO Star Wars Terrifying Tales', 171.237, 4], [623135, '싱크홀', 185.994, 4], [773660, 'Este amor es de otro planeta', 131.951, 4], [214756, 'Ted 2', 161.598, 4], [784500, '劇場版 美少女戦士セーラームーンEternal 後編', 170.761, 4], [293660, 'Deadpool', 167.115, 4], [410113, 'The Loud House Movie', 161.588, 4], [335797, 'Sing', 151.397, 4], [887645, 'Amor Sem Medida', 242.774, 4], [572154, '青春ブタ野郎はゆめみる少女の夢を見ない', 156.996, 4], [532067, '映画 この素晴らしい世界に祝福を！紅伝説', 162.256, 4], [741074, 'Once Upon a Snowman', 174.385, 4], [4564, 'Sex and the City', 150.745, 4], [569094, 'Spider-Man: Across the Spider-Verse', 128.319, 4], [800497, 'Werewolves Within', 153.521, 4], [883648, 'Little Big Mouth', 154.691, 4], [811367, '22 vs. Earth', 144.398, 4], [882812, 'No me echen ese muerto', 135.917, 4], [653349, 'Vacation Friends', 122.001, 4], [800823, 'A todo tren: destino Asturias', 138.089, 5], [347626, \"He's All That\", 127.961, 5], [620, 'Ghostbusters', 154.153, 5], [8871, 'How the Grinch Stole Christmas', 151.695, 5], [98566, 'Teenage Mutant Ninja Turtles', 156.536, 5], [384018, 'Fast & Furious Presents: Hobbs & Shaw', 133.594, 5], [585, 'Monsters, Inc.', 143.475, 5], [607259, 'Fatherhood', 124.533, 5], [862, 'Toy Story', 146.307, 5], [763532, 'Long Story Short', 147.019, 5], [454626, 'Sonic the Hedgehog', 135.551, 5], [808, 'Shrek', 138.551, 5], [18785, 'The Hangover', 139.945, 5], [774456, 'García y García', 136.786, 5], [330457, 'Frozen II', 156.524, 5], [383498, 'Deadpool 2', 128.986, 5], [786705, 'Confissões de Uma Garota Excluída', 127.548, 5], [400155, 'Hotel Transylvania 3: Summer Vacation', 117.027, 5], [106646, 'The Wolf of Wall Street', 145.356, 5], [11932, 'Bride of Chucky', 119.093, 5], [57214, 'Project X', 124.519, 6], [360920, 'The Grinch', 133.679, 6], [438695, 'Sing 2', 113.015, 6], [2978, 'Ghostbusters II', 137.43, 6], [654028, 'The Christmas Chronicles: Part Two', 124.158, 6], [177572, 'Big Hero 6', 114.423, 6], [578908, 'Bad Trip', 110.812, 6], [72105, 'Ted', 116.671, 6], [593910, 'Cinderella', 118.581, 6], [662237, '새콤달콤', 121.326, 6], [50546, 'Just Go with It', 111.377, 6], [193893, \"Let's Be Cops\", 100.405, 6], [75624, '劇場版 NARUTO -ナルト- ブラッド・プリズン', 117.098, 6], [772, 'Home Alone 2: Lost in New York', 126.902, 6], [727745, 'The Kissing Booth 3', 107.406, 6], [112679, 'Italian Spiderman', 112.024, 6], [38365, 'Grown Ups', 114.743, 6], [49519, 'The Croods', 120.573, 6], [809, 'Shrek 2', 108.411, 6], [425, 'Ice Age', 115.091, 6], [301528, 'Toy Story 4', 119.935, 7], [26123, 'American Pie Presents: The Book of Love', 107.597, 7], [826914, 'Muppets Haunted Mansion', 118.464, 7], [863, 'Toy Story 2', 116.334, 7], [677638, 'We Bare Bears: The Movie', 107.33, 7], [35, 'The Simpsons Movie', 104.658, 7], [776909, 'Fuimos canciones', 113.595, 7], [2062, 'Ratatouille', 100.035, 7], [45682, 'Xun zhao Cheng Long', 112.597, 7], [10358, 'Zack and Miri Make a Porno', 105.85, 7], [446893, 'Trolls World Tour', 106.781, 7], [18240, 'The Proposal', 111.579, 7], [9820, 'The Parent Trap', 105.263, 7], [643586, \"Willy's Wonderland\", 97.154, 7], [785516, \"8 Rue de l'Humanité\", 90.874, 7], [9637, 'Scooby-Doo', 98.277, 7], [118, 'Charlie and the Chocolate Factory', 101.756, 7], [257344, 'Pixels', 129.658, 7], [734265, 'Love Hard', 76.001, 7], [512200, 'Jumanji: The Next Level', 101.097, 7], [43347, 'Love & Other Drugs', 105.087, 8], [109418, 'Grown Ups 2', 95.772, 8], [615677, 'We Can Be Heroes', 104.358, 8], [45243, 'The Hangover Part II', 98.612, 8], [11249, 'Seed of Chucky', 93.949, 8], [615678, 'Thunder Force', 89.599, 8], [454699, 'Happy Family', 86.274, 8], [893204, 'Single Mother by Choice', 96.465, 8], [8355, 'Ice Age: Dawn of the Dinosaurs', 88.756, 8], [412117, 'The Secret Life of Pets 2', 95.493, 8], [9023, 'Spirit: Stallion of the Cimarron', 86.944, 8], [109439, 'The Hangover Part III', 95.613, 8], [4247, 'Scary Movie', 85.301, 8], [785539, 'Resort to Love', 87.019, 8], [225886, 'Sex Tape', 83.308, 8], [533535, 'Deadpool 3', 88.798, 8], [260514, 'Cars 3', 84.719, 8], [479455, 'Men in Black: International', 125.97, 8], [76492, 'Hotel Transylvania', 87.61, 8], [5255, 'The Polar Express', 91.775, 8], [662546, 'Godmothered', 91.074, 9], [607383, 'Aquaslash', 86.061, 9], [788905, 'A un paso de mí', 80.448, 9], [726739, 'Cats & Dogs 3: Paws Unite', 80.937, 9], [14849, 'Dead Like Me: Life After Death', 85.48, 9], [621870, 'Secret Society of Second Born Royals', 78.771, 9], [496243, '기생충', 78.465, 9], [739542, 'America: The Motion Picture', 85.374, 9], [10201, 'Yes Man', 82.395, 9], [351694, '西游记之大圣归来', 74.427, 9], [87428, \"That's My Boy\", 91.41, 9], [530079, 'きみと、波にのれたら', 85.358, 9], [36728, '劇場版 NARUTO -ナルト- 疾風伝 火の意志を継ぐ者', 79.073, 9], [14160, 'Up', 77.892, 9], [16996, '17 Again', 79.885, 9], [82690, 'Wreck-It Ralph', 86.163, 9], [20222, 'Sexo con amor', 79.4, 9], [857910, 'Lokillo: nada es igual', 76.747, 9], [522931, \"Hitman's Wife's Bodyguard\", 67.178, 9], [41630, 'No Strings Attached', 78.786, 9], [223702, 'Sausage Party', 78.476, 10], [10193, 'Toy Story 3', 82.034, 10], [481084, 'The Addams Family', 76.219, 10], [594328, 'Phineas and Ferb: The Movie: Candace Against the Universe', 71.981, 10], [291870, 'Dirty Grandpa', 81.173, 10], [4258, 'Scary Movie 5', 71.025, 10], [484718, 'Coming 2 America', 69.916, 10], [41154, 'Men in Black 3', 91.538, 10], [287947, 'Shazam!', 82.895, 10], [23988, 'Stan Helsing', 71.32, 10], [105965, 'Beverly Hills Chihuahua 3: Viva la Fiesta!', 75.529, 10], [272818, 'Monstruosamente Solo', 77.734, 10], [77338, 'Intouchables', 69.304, 10], [676842, 'Después de ti', 79.035, 10], [453071, 'ナルトが火影になった日', 69.396, 10], [553835, '劇場版 ダンジョンに出会いを求めるのは間違っているだろうか -オリオンの矢-', 70.43, 10], [37786, 'Sex and the City 2', 71.089, 10], [49013, 'Cars 2', 76.826, 10], [404368, 'Ralph Breaks the Internet', 73.327, 10], [953, 'Madagascar', 75.394, 10], [390043, \"The Hitman's Bodyguard\", 62.626, 11], [11688, \"The Emperor's New Groove\", 75.435, 11], [802504, 'Just Say Yes', 77.228, 11], [647302, 'Benny Loves You', 63.917, 11], [8920, 'Garfield', 77.761, 11], [159824, 'Hotel Transylvania 2', 84.568, 11], [675353, 'Sonic the Hedgehog 2', 82.357, 11], [150540, 'Inside Out', 74.322, 11], [576393, '一吻定情', 78.014, 11], [81774, \"Les Exploits d'un jeune Don Juan\", 110.711, 11], [20048, 'Confessions of a Shopaholic', 76.096, 11], [39513, 'Paul', 71.707, 11], [19840, 'I Love You, Beth Cooper', 68.04, 11], [38055, 'Megamind', 64.721, 11], [232672, 'Blended', 79.055, 11], [660982, \"American Pie Presents: Girls' Rules\", 70.01, 11], [709629, 'Guerra de Likes', 64.935, 11], [269149, 'Zootopia', 73.647, 11], [270946, 'Penguins of Madagascar', 79.98, 11], [9502, 'Kung Fu Panda', 71.712, 11], [433422, '劇場版 FAIRY TAIL 『DRAGON CRY』', 77.966, 12], [950, 'Ice Age: The Meltdown', 68.102, 12], [19908, 'Zombieland', 70.05, 12], [554596, 'No Manches Frida 2', 76.892, 12], [778814, \"Daisy Quokka: World's Scariest Animal\", 72.517, 12], [375794, 'No Manches Frida', 76.648, 12], [11674, '101 Dalmatians', 68.781, 12], [351819, 'Fifty Shades of Black', 70.167, 12], [810, 'Shrek the Third', 68.874, 12], [664236, 'Extinct', 103.841, 12], [14306, 'Marley & Me', 62.268, 12], [34544, 'The A-Team', 68.351, 12], [37834, 'Knight and Day', 63.959, 12], [644092, \"Finding 'Ohana\", 67.557, 12], [721656, 'Happy Halloween, Scooby-Doo!', 67.762, 12], [9487, \"A Bug's Life\", 75.511, 12], [577242, 'Kaamelott: Premier volet', 78.447, 12], [9948, 'The Fox and the Hound 2', 75.432, 12], [278154, 'Ice Age: Collision Course', 64.931, 12], [11970, 'Hercules', 65.81, 12], [57800, 'Ice Age: Continental Drift', 68.587, 13], [766680, 'Sexo', 58.131, 13], [46195, 'Rio', 62.555, 13], [93456, 'Despicable Me 2', 71.153, 13], [374205, 'ワンピース\\u3000フィルム GOLD', 64.97, 13], [643882, 'The Princess Switch: Switched Again', 61.644, 13], [364689, 'Ferdinand', 64.181, 13], [542178, 'The French Dispatch', 70.559, 13], [797394, 'Ганзель, Гретель и Агентство Магии', 63.64, 13], [134374, 'Pain & Gain', 69.988, 13], [10202, 'Bedtime Stories', 63.971, 13], [256591, 'Focus', 55.895, 13], [638134, 'Pets United', 60.668, 13], [4248, 'Scary Movie 2', 61.442, 13], [14405, 'Beverly Hills Chihuahua', 65.34, 13], [682254, 'Scooby-Doo! The Sword and the Scoob', 67.386, 13], [11836, 'The SpongeBob SquarePants Movie', 64.269, 13], [536728, 'The Space Between', 60.269, 13], [13971, 'Wild Child', 64.003, 13], [454640, 'The Angry Birds Movie 2', 62.416, 13], [139038, 'A Haunted House', 57.689, 14], [62177, 'Brave', 63.71, 14], [353486, 'Jumanji: Welcome to the Jungle', 63.009, 14], [76489, 'The Three Stooges', 60.688, 14], [520942, 'Christmas Down Under', 40.704, 14], [10521, 'Bride Wars', 61.618, 14], [346910, 'The Predator', 58.594, 14], [228326, 'The Book of Life', 66.854, 14], [38322, 'Big Mommas: Like Father, Like Son', 62.006, 14], [20453, '3 Idiots', 58.354, 14], [14248, 'Igor', 63.235, 14], [664168, 'Fat Ass Zombies', 56.331, 14], [82702, 'How to Train Your Dragon 2', 60.746, 14], [12230, 'One Hundred and One Dalmatians', 66.408, 14], [136799, 'Trolls', 65.984, 14], [621876, 'Flora & Ulysses', 68.697, 14], [825597, 'Maggie Simpson in The Force Awakens from Its Nap', 56.353, 14], [12153, 'White Chicks', 64.376, 14], [140300, 'Kung Fu Panda 3', 58.426, 14], [17610, 'Year One', 55.616, 14], [768334, 'A Classic Horror Story', 61.515, 15], [2105, 'American Pie', 62.767, 15], [252, 'Willy Wonka & the Chocolate Factory', 50.384, 15], [624963, \"A Babysitter's Guide to Monster Hunting\", 60.895, 15], [23023, 'Tooth Fairy', 55.592, 15], [454983, 'The Kissing Booth', 62.341, 15], [338967, 'Zombieland: Double Tap', 56.891, 15], [442062, 'Goosebumps 2: Haunted Halloween', 50.27, 15], [7446, 'Tropic Thunder', 50.637, 15], [648964, 'Ninja Escapades: Creation of Akatsuki, The Two Uchiha, The Far Reaches of Hope', 62.816, 15], [381289, \"A Dog's Purpose\", 57.889, 15], [273477, 'Scouts Guide to the Zombie Apocalypse', 50.559, 15], [590223, 'Love and Monsters', 51.418, 15], [50646, 'Crazy, Stupid, Love.', 51.109, 15], [71552, 'American Reunion', 58.674, 15], [27581, 'The Other Guys', 62.298, 15], [10192, 'Shrek Forever After', 71.584, 15], [630520, 'La noche mágica', 47.917, 15], [13688, '長江七號', 59.109, 15], [920, 'Cars', 55.028, 15]]\n"
          ]
        }
      ]
    },
    {
      "cell_type": "code",
      "metadata": {
        "colab": {
          "base_uri": "https://localhost:8080/"
        },
        "id": "jWMS4xw6CQIk",
        "outputId": "d29dac5c-ed3f-4e1a-e315-9511511923c6"
      },
      "source": [
        "!pip install pandas\n",
        "import pandas as pd "
      ],
      "execution_count": null,
      "outputs": [
        {
          "output_type": "stream",
          "name": "stdout",
          "text": [
            "Requirement already satisfied: pandas in /usr/local/lib/python3.7/dist-packages (1.1.5)\n",
            "Requirement already satisfied: numpy>=1.15.4 in /usr/local/lib/python3.7/dist-packages (from pandas) (1.19.5)\n",
            "Requirement already satisfied: pytz>=2017.2 in /usr/local/lib/python3.7/dist-packages (from pandas) (2018.9)\n",
            "Requirement already satisfied: python-dateutil>=2.7.3 in /usr/local/lib/python3.7/dist-packages (from pandas) (2.8.2)\n",
            "Requirement already satisfied: six>=1.5 in /usr/local/lib/python3.7/dist-packages (from python-dateutil>=2.7.3->pandas) (1.15.0)\n"
          ]
        }
      ]
    },
    {
      "cell_type": "code",
      "metadata": {
        "id": "P-J4l6celwDx"
      },
      "source": [
        "table=sorted(table,key=lambda l:l[2], reverse=True)"
      ],
      "execution_count": null,
      "outputs": []
    },
    {
      "cell_type": "code",
      "metadata": {
        "id": "J81RPQfosG_C"
      },
      "source": [
        "df = pd.DataFrame(table,columns=['Movie_id','Name','Popularity', 'Pageno'])"
      ],
      "execution_count": null,
      "outputs": []
    },
    {
      "cell_type": "code",
      "metadata": {
        "colab": {
          "base_uri": "https://localhost:8080/"
        },
        "id": "vfEhRx5HoGxK",
        "outputId": "53576c54-9b3c-4aff-c728-b6e14d735d7f"
      },
      "source": [
        "df.shape"
      ],
      "execution_count": null,
      "outputs": [
        {
          "output_type": "execute_result",
          "data": {
            "text/plain": [
              "(300, 4)"
            ]
          },
          "metadata": {},
          "execution_count": 32
        }
      ]
    },
    {
      "cell_type": "code",
      "metadata": {
        "colab": {
          "base_uri": "https://localhost:8080/",
          "height": 423
        },
        "id": "RW1TYhldoYJq",
        "outputId": "68687dea-eaa9-49df-a0ba-3eabc3a5d410"
      },
      "source": [
        "df "
      ],
      "execution_count": null,
      "outputs": [
        {
          "output_type": "execute_result",
          "data": {
            "text/html": [
              "<div>\n",
              "<style scoped>\n",
              "    .dataframe tbody tr th:only-of-type {\n",
              "        vertical-align: middle;\n",
              "    }\n",
              "\n",
              "    .dataframe tbody tr th {\n",
              "        vertical-align: top;\n",
              "    }\n",
              "\n",
              "    .dataframe thead th {\n",
              "        text-align: right;\n",
              "    }\n",
              "</style>\n",
              "<table border=\"1\" class=\"dataframe\">\n",
              "  <thead>\n",
              "    <tr style=\"text-align: right;\">\n",
              "      <th></th>\n",
              "      <th>Movie_id</th>\n",
              "      <th>Name</th>\n",
              "      <th>Popularity</th>\n",
              "      <th>Pageno</th>\n",
              "    </tr>\n",
              "  </thead>\n",
              "  <tbody>\n",
              "    <tr>\n",
              "      <th>0</th>\n",
              "      <td>512195</td>\n",
              "      <td>Red Notice</td>\n",
              "      <td>5515.987</td>\n",
              "      <td>1</td>\n",
              "    </tr>\n",
              "    <tr>\n",
              "      <th>1</th>\n",
              "      <td>585245</td>\n",
              "      <td>Clifford the Big Red Dog</td>\n",
              "      <td>3116.768</td>\n",
              "      <td>1</td>\n",
              "    </tr>\n",
              "    <tr>\n",
              "      <th>2</th>\n",
              "      <td>876716</td>\n",
              "      <td>Ciao Alberto</td>\n",
              "      <td>1880.894</td>\n",
              "      <td>1</td>\n",
              "    </tr>\n",
              "    <tr>\n",
              "      <th>3</th>\n",
              "      <td>877183</td>\n",
              "      <td>The Simpsons in Plusaversary</td>\n",
              "      <td>1750.595</td>\n",
              "      <td>1</td>\n",
              "    </tr>\n",
              "    <tr>\n",
              "      <th>4</th>\n",
              "      <td>550988</td>\n",
              "      <td>Free Guy</td>\n",
              "      <td>1288.504</td>\n",
              "      <td>1</td>\n",
              "    </tr>\n",
              "    <tr>\n",
              "      <th>...</th>\n",
              "      <td>...</td>\n",
              "      <td>...</td>\n",
              "      <td>...</td>\n",
              "      <td>...</td>\n",
              "    </tr>\n",
              "    <tr>\n",
              "      <th>295</th>\n",
              "      <td>273477</td>\n",
              "      <td>Scouts Guide to the Zombie Apocalypse</td>\n",
              "      <td>50.559</td>\n",
              "      <td>15</td>\n",
              "    </tr>\n",
              "    <tr>\n",
              "      <th>296</th>\n",
              "      <td>252</td>\n",
              "      <td>Willy Wonka &amp; the Chocolate Factory</td>\n",
              "      <td>50.384</td>\n",
              "      <td>15</td>\n",
              "    </tr>\n",
              "    <tr>\n",
              "      <th>297</th>\n",
              "      <td>442062</td>\n",
              "      <td>Goosebumps 2: Haunted Halloween</td>\n",
              "      <td>50.270</td>\n",
              "      <td>15</td>\n",
              "    </tr>\n",
              "    <tr>\n",
              "      <th>298</th>\n",
              "      <td>630520</td>\n",
              "      <td>La noche mágica</td>\n",
              "      <td>47.917</td>\n",
              "      <td>15</td>\n",
              "    </tr>\n",
              "    <tr>\n",
              "      <th>299</th>\n",
              "      <td>520942</td>\n",
              "      <td>Christmas Down Under</td>\n",
              "      <td>40.704</td>\n",
              "      <td>14</td>\n",
              "    </tr>\n",
              "  </tbody>\n",
              "</table>\n",
              "<p>300 rows × 4 columns</p>\n",
              "</div>"
            ],
            "text/plain": [
              "     Movie_id                                   Name  Popularity  Pageno\n",
              "0      512195                             Red Notice    5515.987       1\n",
              "1      585245               Clifford the Big Red Dog    3116.768       1\n",
              "2      876716                           Ciao Alberto    1880.894       1\n",
              "3      877183           The Simpsons in Plusaversary    1750.595       1\n",
              "4      550988                               Free Guy    1288.504       1\n",
              "..        ...                                    ...         ...     ...\n",
              "295    273477  Scouts Guide to the Zombie Apocalypse      50.559      15\n",
              "296       252    Willy Wonka & the Chocolate Factory      50.384      15\n",
              "297    442062        Goosebumps 2: Haunted Halloween      50.270      15\n",
              "298    630520                        La noche mágica      47.917      15\n",
              "299    520942                   Christmas Down Under      40.704      14\n",
              "\n",
              "[300 rows x 4 columns]"
            ]
          },
          "metadata": {},
          "execution_count": 33
        }
      ]
    },
    {
      "cell_type": "code",
      "metadata": {
        "id": "8Q86T7J40WjK"
      },
      "source": [
        "columns = ['Movie_id', 'Name']\n",
        "tmdb_comedy= df[columns].apply(lambda row: ','.join(row.values.astype(str)), axis=1)"
      ],
      "execution_count": null,
      "outputs": []
    },
    {
      "cell_type": "code",
      "metadata": {
        "colab": {
          "base_uri": "https://localhost:8080/"
        },
        "id": "cfj9n_JX0exH",
        "outputId": "b00083d7-c8b7-4837-df17-b5af727f47cc"
      },
      "source": [
        "tmdb_comedy"
      ],
      "execution_count": null,
      "outputs": [
        {
          "output_type": "execute_result",
          "data": {
            "text/plain": [
              "0                                 512195,Red Notice\n",
              "1                   585245,Clifford the Big Red Dog\n",
              "2                               876716,Ciao Alberto\n",
              "3               877183,The Simpsons in Plusaversary\n",
              "4                                   550988,Free Guy\n",
              "                           ...                     \n",
              "295    273477,Scouts Guide to the Zombie Apocalypse\n",
              "296         252,Willy Wonka & the Chocolate Factory\n",
              "297          442062,Goosebumps 2: Haunted Halloween\n",
              "298                          630520,La noche mágica\n",
              "299                     520942,Christmas Down Under\n",
              "Length: 300, dtype: object"
            ]
          },
          "metadata": {},
          "execution_count": 35
        }
      ]
    },
    {
      "cell_type": "code",
      "metadata": {
        "colab": {
          "base_uri": "https://localhost:8080/",
          "height": 17
        },
        "id": "1pXXE-w0uv4q",
        "outputId": "136630de-3d89-4470-dd07-9f49ec92766f"
      },
      "source": [
        "tmdb_comedy.to_csv(\"movie_ID_name.csv\")\n",
        "from google.colab import files\n",
        "files.download(\"movie_ID_name.csv\")"
      ],
      "execution_count": null,
      "outputs": [
        {
          "output_type": "display_data",
          "data": {
            "application/javascript": [
              "\n",
              "    async function download(id, filename, size) {\n",
              "      if (!google.colab.kernel.accessAllowed) {\n",
              "        return;\n",
              "      }\n",
              "      const div = document.createElement('div');\n",
              "      const label = document.createElement('label');\n",
              "      label.textContent = `Downloading \"${filename}\": `;\n",
              "      div.appendChild(label);\n",
              "      const progress = document.createElement('progress');\n",
              "      progress.max = size;\n",
              "      div.appendChild(progress);\n",
              "      document.body.appendChild(div);\n",
              "\n",
              "      const buffers = [];\n",
              "      let downloaded = 0;\n",
              "\n",
              "      const channel = await google.colab.kernel.comms.open(id);\n",
              "      // Send a message to notify the kernel that we're ready.\n",
              "      channel.send({})\n",
              "\n",
              "      for await (const message of channel.messages) {\n",
              "        // Send a message to notify the kernel that we're ready.\n",
              "        channel.send({})\n",
              "        if (message.buffers) {\n",
              "          for (const buffer of message.buffers) {\n",
              "            buffers.push(buffer);\n",
              "            downloaded += buffer.byteLength;\n",
              "            progress.value = downloaded;\n",
              "          }\n",
              "        }\n",
              "      }\n",
              "      const blob = new Blob(buffers, {type: 'application/binary'});\n",
              "      const a = document.createElement('a');\n",
              "      a.href = window.URL.createObjectURL(blob);\n",
              "      a.download = filename;\n",
              "      div.appendChild(a);\n",
              "      a.click();\n",
              "      div.remove();\n",
              "    }\n",
              "  "
            ],
            "text/plain": [
              "<IPython.core.display.Javascript object>"
            ]
          },
          "metadata": {}
        },
        {
          "output_type": "display_data",
          "data": {
            "application/javascript": [
              "download(\"download_37565b55-4610-4873-91ca-fddc0febd4bc\", \"movie_ID_name.csv\", 9984)"
            ],
            "text/plain": [
              "<IPython.core.display.Javascript object>"
            ]
          },
          "metadata": {}
        }
      ]
    },
    {
      "cell_type": "markdown",
      "source": [
        "***2. For each of the 300 movies, use the API to find its 5 similar movies. If a movie has fewer than 5 similar movies, the API will return as many as it can find.***"
      ],
      "metadata": {
        "id": "9OYN_04giysf"
      }
    },
    {
      "cell_type": "code",
      "metadata": {
        "colab": {
          "base_uri": "https://localhost:8080/"
        },
        "id": "nxyf77OpeRpv",
        "outputId": "1f338676-53e1-4ddf-f568-dd8e8f51b5e1"
      },
      "source": [
        "catalog=[]\n",
        "catalog_rv=[]\n",
        "for i in range(0,300):\n",
        "  similar_movies=requests.get('https://api.themoviedb.org/3/movie/'+str(df.Movie_id[i])+'/similar?api_key=a5b80b8c840d63bcf2c2680b94234a5f&language=en-US&page='+str(df.Pageno[i])).json()\n",
        "  result=similar_movies['results']\n",
        "  length=len(result)\n",
        "  if (length<5):\n",
        "    length=length\n",
        "  else:\n",
        "    length=6\n",
        "  for index in range(1,length):\n",
        "    pairs=[]\n",
        "    reversed=[]\n",
        "    sim_id=result[index]['id']\n",
        "    pairs.append(df.Movie_id[i])\n",
        "    pairs.append(sim_id)\n",
        "    catalog.append(pairs)\n",
        "\n",
        "    reversed.extend(pairs)\n",
        "    reversed.reverse()\n",
        "    catalog_rv.append(reversed)"
      ],
      "execution_count": null,
      "outputs": [
        {
          "output_type": "stream",
          "name": "stdout",
          "text": [
            "1500\n",
            "\n",
            "[[512195, 161], [512195, 163], [512195, 184], [512195, 186], [512195, 754], [585245, 235], [585245, 238], [585245, 252], [585245, 257], [585245, 118], [876716, 27582], [876716, 24480], [876716, 35056], [876716, 10144], [876716, 10258], [877183, 76122], [877183, 58428], [877183, 76535], [877183, 73881], [877183, 82424], [550988, 755], [550988, 787], [550988, 1656], [550988, 2048], [550988, 4141], [654974, 2447], [654974, 5375], [654974, 5825], [654974, 634], [654974, 562], [568124, 41513], [568124, 49444], [568124, 73723], [568124, 62177], [568124, 57800], [459151, 73], [459151, 756], [459151, 772], [459151, 808], [459151, 809], [639721, 2907], [639721, 2976], [639721, 2978], [639721, 2979], [639721, 1621], [589754, 589754], [589754, 775], [589754, 264038], [589754, 742922], [589754, 147469], [508943, 20453], [508943, 28178], [508943, 23521], [508943, 23168], [508943, 22794], [451048, 121734], [451048, 62211], [451048, 28], [451048, 58], [451048, 756], [805411, 3933], [805411, 6557], [805411, 2018], [805411, 9339], [805411, 7839], [871964, 663], [871964, 924], [871964, 948], [871964, 275], [871964, 4232], [675445, 201], [675445, 204], [675445, 217], [675445, 239], [675445, 244], [379686, 41513], [379686, 55301], [379686, 49530], [379686, 70160], [379686, 58496], [425909, 14813], [425909, 14849], [425909, 14873], [425909, 27769], [425909, 27793], [762469, 252], [762469, 257], [762469, 290], [762469, 293], [762469, 105], [337404, 769], [337404, 1949], [337404, 1878], [337404, 1103], [337404, 612], [846167, 28510], [846167, 28597], [846167, 22705], [846167, 22794], [846167, 27004], [772436, 3176], [772436, 3177], [772436, 1420], [772436, 1440], [772436, 1452], [885458, 935], [885458, 936], [885458, 941], [885458, 942], [885458, 943], [529203, 425], [529203, 533], [529203, 585], [529203, 1979], [529203, 163], [760747, 49026], [760747, 46332], [760747, 68734], [760747, 77877], [760747, 76617], [879163, 1965], [879163, 1969], [879163, 1830], [879163, 1878], [879163, 802], [726684, 9320], [726684, 9342], [726684, 8960], [726684, 8536], [726684, 8698], [613098, 773], [613098, 778], [613098, 787], [613098, 788], [613098, 1624], [809065, 20558], [809065, 14912], [809065, 14926], [809065, 13523], [809065, 13596], [785533, 1573], [785533, 1581], [785533, 1585], [785533, 1979], [785533, 508], [755812, 1452], [755812, 1487], [755812, 1497], [755812, 1498], [755812, 1499], [812204, 27793], [812204, 23172], [812204, 27812], [812204, 22494], [812204, 23988], [813258, 298115], [813258, 161337], [813258, 159824], [813258, 119569], [813258, 211387], [711475, 3132], [711475, 3134], [711475, 3170], [711475, 3176], [711475, 1417], [324857, 1250], [324857, 1268], [324857, 1273], [324857, 607], [324857, 559], [843906, 468], [843906, 489], [843906, 500], [843906, 510], [843906, 627], [354912, 55465], [354912, 41233], [354912, 51739], [354912, 68726], [354912, 68728], [641501, 23483], [641501, 30128], [641501, 24021], [641501, 24100], [641501, 24418], [573164, 927], [573164, 928], [573164, 935], [573164, 936], [573164, 941], [347201, 81], [347201, 919], [347201, 823], [347201, 647], [347201, 9463], [887645, 58553], [887645, 44896], [887645, 55465], [887645, 56903], [887645, 45243], [840756, 20558], [840756, 14912], [840756, 14926], [840756, 13523], [840756, 13596], [846214, 28178], [846214, 23521], [846214, 23566], [846214, 22855], [846214, 22859], [587807, 6972], [587807, 5559], [587807, 4442], [587807, 6477], [587807, 10358], [597316, 639395], [597316, 762838], [597316, 17445], [597316, 15969], [597316, 15999], [508442, 2251], [508442, 2291], [508442, 1267], [508442, 1273], [508442, 1572], [729720, 41513], [729720, 40805], [729720, 40807], [729720, 54138], [729720, 55301], [852663, 344690], [852663, 461838], [852663, 788068], [852663, 829609], [852663, 821064], [585083, 12222], [585083, 12230], [585083, 11797], [585083, 11114], [585083, 11319], [449406, 433], [449406, 920], [449406, 950], [449406, 953], [449406, 1833], [522478, 936], [522478, 941], [522478, 942], [522478, 943], [522478, 944], [617502, 10897], [617502, 8913], [617502, 8923], [617502, 8966], [617502, 10735], [680319, 47626], [680319, 59436], [680319, 65851], [680319, 52449], [680319, 65057], [400160, 13690], [400160, 13700], [400160, 12429], [400160, 15789], [400160, 12092], [482321, 427900], [482321, 464504], [482321, 164457], [482321, 225886], [482321, 195589], [531219, 2383], [531219, 2270], [531219, 2275], [531219, 2277], [531219, 1278], [623135, 83761], [623135, 19133], [623135, 391975], [623135, 16380], [623135, 177203], [678580, 2493], [678580, 6641], [678580, 5559], [678580, 4442], [678580, 6557], [763873, 4226], [763873, 4244], [763873, 4247], [763873, 4248], [763873, 4256], [550205, 218778], [550205, 294272], [550205, 298115], [550205, 126963], [550205, 140300], [834404, 58233], [834404, 60935], [834404, 57089], [834404, 59387], [834404, 39513], [741074, 3170], [741074, 808], [741074, 809], [741074, 810], [741074, 862], [857702, 13283], [857702, 13284], [857702, 13285], [857702, 14306], [857702, 14317], [768744, 7340], [768744, 8916], [768744, 8960], [768744, 8247], [768744, 8536], [784500, 944], [784500, 947], [784500, 949], [784500, 950], [784500, 953], [293660, 75802], [293660, 71880], [293660, 75736], [293660, 60405], [293660, 60304], [613583, 47626], [613583, 59436], [613583, 65851], [613583, 52449], [613583, 65057], [43074, 13189], [43074, 37950], [43074, 48650], [43074, 55721], [43074, 50698], [532067, 11838], [532067, 10494], [532067, 11527], [532067, 11596], [532067, 12599], [214756, 1573], [214756, 1452], [214756, 920], [214756, 943], [214756, 1924], [410113, 9816], [410113, 9833], [410113, 9837], [410113, 36685], [410113, 38757], [572154, 15283], [572154, 17101], [572154, 17165], [572154, 16859], [572154, 20982], [98566, 1577], [98566, 1830], [98566, 1852], [98566, 1883], [98566, 1979], [330457, 10865], [330457, 10882], [330457, 10895], [330457, 7518], [330457, 8916], [883648, 5174], [883648, 5175], [883648, 6279], [883648, 6280], [883648, 6282], [620, 1830], [620, 1852], [620, 1858], [620, 1883], [620, 816], [800497, 1830], [800497, 802], [800497, 1858], [800497, 814], [800497, 1979], [8871, 35690], [8871, 50546], [8871, 51052], [8871, 50393], [8871, 48844], [335797, 24554], [335797, 11319], [335797, 11360], [335797, 10009], [335797, 10020], [4564, 20048], [4564, 19265], [4564, 43074], [4564, 242], [4564, 244], [763532, 16511], [763532, 259720], [763532, 19238], [763532, 39871], [763532, 42176], [862, 6933], [862, 6978], [862, 7350], [862, 6038], [862, 8916], [106646, 793], [106646, 302], [106646, 307], [106646, 311], [106646, 319], [811367, 394394], [811367, 396422], [811367, 546726], [811367, 537971], [811367, 444308], [585, 621], [585, 562], [585, 643], [585, 579], [585, 585], [18785, 10358], [18785, 12133], [18785, 12138], [18785, 9276], [18785, 8836], [808, 7182], [808, 8656], [808, 7518], [808, 8316], [808, 8355], [800823, 10320], [800823, 8398], [800823, 8617], [800823, 9285], [800823, 9291], [2978, 9007], [2978, 6479], [2978, 10323], [2978, 10349], [2978, 12142], [774456, 133174], [774456, 53530], [774456, 1732], [774456, 252376], [774456, 46743], [882812, 1621], [882812, 4141], [882812, 2062], [882812, 2069], [882812, 3563], [454626, 12155], [454626, 11850], [454626, 11852], [454626, 11864], [454626, 11886], [360920, 9021], [360920, 9023], [360920, 9030], [360920, 9038], [360920, 10320], [384018, 12138], [384018, 11802], [384018, 11887], [384018, 11888], [384018, 10437], [773660, 13649], [773660, 13655], [773660, 13680], [773660, 13682], [773660, 13688], [257344, 55465], [257344, 44826], [257344, 44896], [257344, 86834], [257344, 87101], [383498, 616], [383498, 617], [383498, 559], [383498, 634], [383498, 579], [569094, 11459], [569094, 18861], [569094, 18882], [569094, 21422], [569094, 18095], [347626, 23437], [347626, 19840], [347626, 10007], [347626, 10014], [347626, 10050], [786705, 786705], [786705, 722778], [786705, 468224], [786705, 13597], [786705, 11977], [772, 557], [772, 558], [772, 562], [772, 594], [772, 693], [479455, 15384], [479455, 13186], [479455, 13195], [479455, 11619], [479455, 11632], [607259, 26710], [607259, 665488], [607259, 41659], [607259, 182972], [607259, 172760], [57214, 37797], [57214, 35558], [57214, 41446], [57214, 20178], [57214, 30636], [654028, 11238], [654028, 10719], [654028, 15969], [654028, 14813], [654028, 14873], [653349, 8882], [653349, 15212], [653349, 17899], [653349, 9696], [653349, 11025], [662237, 591], [662237, 671], [662237, 600], [662237, 13], [662237, 28], [49519, 670], [49519, 672], [49519, 673], [49519, 693], [49519, 404], [301528, 11970], [301528, 9732], [301528, 9567], [301528, 8467], [301528, 8487], [11932, 18009], [11932, 41446], [11932, 24001], [11932, 24021], [11932, 23202], [593910, 461928], [593910, 506574], [593910, 407655], [593910, 606117], [593910, 556574], [826914, 26956], [826914, 26954], [826914, 899415], [826914, 859912], [826914, 26960], [75624, 149871], [75624, 150213], [75624, 110420], [75624, 161337], [75624, 137227], [400155, 15789], [400155, 11544], [400155, 12222], [400155, 12230], [400155, 16366], [72105, 10995], [72105, 10996], [72105, 9472], [72105, 8065], [72105, 10895], [863, 15512], [863, 13690], [863, 13700], [863, 8836], [863, 8839], [425, 579], [425, 580], [425, 585], [425, 587], [425, 604], [38365, 61979], [38365, 72105], [38365, 83770], [38365, 10521], [38365, 10527], [177572, 953], [177572, 956], [177572, 979], [177572, 984], [177572, 2109], [776909, 146], [776909, 153], [776909, 162], [776909, 165], [776909, 194], [438695, 9598], [438695, 10198], [438695, 8587], [438695, 10340], [438695, 10380], [45682, 4951], [45682, 4964], [45682, 2830], [45682, 2898], [45682, 2899], [112679, 18649], [112679, 3065], [112679, 22328], [112679, 28169], [112679, 36642], [18240, 13668], [18240, 19585], [18240, 19899], [18240, 26648], [18240, 21208], [50546, 9798], [50546, 10349], [50546, 9266], [50546, 9280], [50546, 9291], [578908, 509635], [578908, 537996], [578908, 642208], [578908, 447404], [578908, 454626], [81774, 802], [81774, 805], [81774, 826], [81774, 841], [81774, 855], [809, 20329], [809, 20352], [809, 25396], [809, 19277], [809, 19286], [26123, 20178], [26123, 19840], [26123, 18239], [26123, 7326], [26123, 7342], [727745, 3050], [727745, 3177], [727745, 4148], [727745, 1633], [727745, 1646], [677638, 17130], [677638, 318121], [677638, 10859], [677638, 2323], [677638, 12834], [446893, 74997], [446893, 10527], [446893, 10576], [446893, 10651], [446893, 10306], [10358, 326], [10358, 380], [10358, 393], [10358, 277], [10358, 285], [9820, 10906], [9820, 10944], [9820, 10950], [9820, 10956], [9820, 9603], [43347, 11220], [43347, 390053], [43347, 49950], [43347, 218275], [43347, 38684], [35, 9480], [35, 9486], [35, 9487], [35, 9272], [35, 9716], [615677, 101907], [615677, 111969], [615677, 141052], [615677, 150540], [615677, 103269], [664236, 280617], [664236, 300321], [664236, 134147], [664236, 27549], [664236, 84488], [118, 591], [118, 550], [118, 563], [118, 578], [118, 302], [512200, 6978], [512200, 5174], [512200, 5175], [512200, 5503], [512200, 9021], [193893, 11134], [193893, 11186], [193893, 11319], [193893, 11324], [193893, 11353], [2062, 327], [2062, 350], [2062, 393], [2062, 293], [2062, 111], [45243, 18162], [45243, 10527], [45243, 10610], [45243, 10634], [45243, 11631], [9637, 59762], [9637, 570169], [9637, 68714], [9637, 23104], [9637, 16939], [643586, 393345], [643586, 346364], [643586, 441701], [643586, 400157], [643586, 439079], [893204, 1715], [893204, 16520], [893204, 210479], [893204, 11773], [893204, 505063], [109418, 292177], [109418, 210769], [109418, 214030], [109418, 297222], [109418, 301528], [109439, 82702], [109439, 172385], [109439, 166426], [109439, 166428], [109439, 181808], [412117, 11361], [412117, 10009], [412117, 10020], [412117, 10028], [412117, 10040], [11249, 9659], [11249, 16258], [11249, 16288], [11249, 16140], [11249, 16187], [5255, 527435], [5255, 431530], [5255, 555850], [5255, 549053], [5255, 450322], [41154, 299687], [41154, 299534], [41154, 297222], [41154, 234004], [41154, 260372], [87428, 451713], [87428, 20009], [87428, 701062], [87428, 63493], [87428, 157115], [662546, 13188], [662546, 9647], [662546, 48873], [662546, 850], [662546, 879111], [785516, 763391], [785516, 746053], [785516, 877164], [785516, 882851], [785516, 795422], [615678, 230896], [615678, 232842], [615678, 286567], [615678, 228088], [615678, 225145], [533535, 26389], [533535, 127585], [533535, 98566], [533535, 77951], [533535, 59965], [8355, 10380], [8355, 8413], [8355, 9806], [8355, 9836], [8355, 9837], [76492, 11797], [76492, 11104], [76492, 11114], [76492, 11319], [76492, 11360], [785539, 316023], [785539, 339987], [785539, 412520], [785539, 342878], [785539, 424694], [9023, 64807], [9023, 10521], [9023, 10527], [9023, 10530], [9023, 10555], [454699, 40723], [454699, 29778], [454699, 252171], [454699, 29794], [454699, 218784], [82690, 12536], [82690, 12556], [82690, 11090], [82690, 10748], [82690, 10756], [607383, 19576], [607383, 19580], [607383, 19585], [607383, 22538], [607383, 22582], [14849, 8649], [14849, 14054], [14849, 12187], [14849, 990], [14849, 12560], [739542, 14912], [739542, 14919], [739542, 14926], [739542, 13523], [739542, 13596], [530079, 20982], [530079, 22537], [530079, 23049], [530079, 46304], [530079, 83088], [4247, 11845], [4247, 11852], [4247, 11859], [4247, 11887], [4247, 11891], [260514, 12092], [260514, 14906], [260514, 11230], [260514, 11238], [260514, 13761], [159824, 10555], [159824, 10567], [159824, 10577], [159824, 10578], [159824, 10579], [225886, 292431], [225886, 464504], [225886, 454640], [225886, 368031], [225886, 467012], [287947, 10140], [287947, 10184], [287947, 10193], [287947, 10198], [287947, 10510], [10201, 2270], [10201, 2277], [10201, 2280], [10201, 2284], [10201, 2300], [675353, 315843], [675353, 74616], [675353, 83811], [675353, 27867], [675353, 13273], [10193, 9480], [10193, 9486], [10193, 9487], [10193, 8065], [10193, 10803], [291870, 15544], [291870, 3179], [291870, 1825], [291870, 11971], [291870, 340357], [726739, 464889], [726739, 471506], [726739, 458897], [726739, 452773], [726739, 459159], [788905, 106], [788905, 111], [788905, 114], [788905, 115], [788905, 116], [270946, 14128], [270946, 14160], [270946, 14164], [270946, 14177], [270946, 11231], [16996, 575813], [16996, 604578], [16996, 470044], [16996, 449132], [16996, 449176], [20222, 7446], [20222, 7453], [20222, 7459], [20222, 7484], [20222, 6916], [36728, 242828], [36728, 290271], [36728, 150540], [36728, 163394], [36728, 161337], [232672, 14433], [232672, 18222], [232672, 11982], [232672, 32302], [232672, 1443], [676842, 62838], [676842, 75802], [676842, 60816], [676842, 71859], [676842, 71880], [41630, 10054], [41630, 10096], [41630, 11430], [41630, 11457], [41630, 11459], [621870, 5595], [621870, 13768], [621870, 506815], [621870, 58159], [621870, 30159], [223702, 615678], [223702, 667520], [223702, 716799], [223702, 739542], [223702, 38055], [496243, 346685], [496243, 274167], [496243, 200085], [496243, 207933], [496243, 548473], [577242, 52451], [577242, 65057], [577242, 68179], [577242, 70587], [577242, 67900], [576393, 585244], [576393, 741434], [576393, 761898], [576393, 570503], [576393, 447185], [433422, 333622], [433422, 399055], [433422, 330081], [433422, 417859], [433422, 409421], [14160, 12222], [14160, 12225], [14160, 12227], [14160, 12230], [14160, 12556], [8920, 345937], [8920, 30870], [8920, 471880], [8920, 31518], [8920, 60800], [272818, 892], [272818, 1018], [272818, 403], [272818, 404], [272818, 406], [802504, 12606], [802504, 2210], [802504, 15624], [802504, 11591], [802504, 13400], [554596, 10748], [554596, 10756], [554596, 10760], [554596, 10771], [554596, 10776], [49013, 10020], [49013, 10030], [49013, 10040], [49013, 10061], [49013, 11411], [857910, 230170], [857910, 14244], [857910, 432883], [857910, 364089], [857910, 590872], [375794, 2020], [375794, 487476], [375794, 122293], [375794, 28512], [375794, 6071], [481084, 404368], [481084, 548473], [481084, 524434], [481084, 635302], [481084, 621870], [20048, 9880], [20048, 9437], [20048, 9445], [20048, 9472], [20048, 9475], [734265, 874122], [734265, 874157], [734265, 880520], [734265, 882956], [734265, 882968], [105965, 87567], [105965, 1945], [105965, 8346], [105965, 9546], [105965, 290762], [9487, 13805], [9487, 14560], [9487, 12092], [9487, 15789], [9487, 14906], [11688, 393306], [11688, 291157], [11688, 55538], [11688, 364540], [11688, 104237], [9948, 168615], [9948, 33172], [9948, 36696], [9948, 49361], [9948, 29918], [953, 9732], [953, 9738], [953, 10340], [953, 10380], [953, 10386], [351694, 2640], [351694, 2661], [351694, 2668], [351694, 2698], [351694, 2758], [150540, 28178], [150540, 23521], [150540, 10009], [150540, 10014], [150540, 10020], [269149, 11887], [269149, 10431], [269149, 10471], [269149, 10494], [269149, 11544], [404368, 12429], [404368, 12448], [404368, 14128], [404368, 14160], [404368, 14164], [778814, 187012], [778814, 4249], [778814, 232574], [778814, 82250], [778814, 123163], [594328, 83746], [594328, 45851], [594328, 121171], [594328, 67169], [594328, 67163], [9502, 11636], [9502, 11649], [9502, 14128], [9502, 14160], [9502, 12092], [39513, 8337], [39513, 10198], [39513, 10200], [39513, 10246], [39513, 6795], [10192, 543583], [10192, 24102], [10192, 366668], [10192, 17700], [10192, 9994], [23988, 4964], [23988, 6589], [23988, 7446], [23988, 7459], [23988, 5175], [93456, 10830], [93456, 10865], [93456, 10882], [93456, 10895], [93456, 11918], [37786, 696], [37786, 22798], [37786, 467239], [37786, 6619], [37786, 534235], [4258, 15653], [4258, 22538], [4258, 9705], [4258, 9593], [4258, 9595], [542178, 46614], [542178, 75090], [542178, 328796], [542178, 92432], [542178, 60991], [553835, 39105], [553835, 39106], [553835, 39107], [553835, 39108], [553835, 39144], [351819, 3989], [351819, 164], [351819, 109729], [351819, 9605], [351819, 291270], [19908, 10550], [19908, 10588], [19908, 10607], [19908, 10651], [19908, 10652], [660982, 305470], [660982, 308639], [660982, 312221], [660982, 248574], [660982, 241848], [134374, 150540], [134374, 139038], [134374, 100402], [134374, 168530], [134374, 102899], [484718, 138103], [484718, 185341], [484718, 125509], [484718, 137116], [484718, 199534], [453071, 342588], [453071, 401887], [453071, 326359], [453071, 401043], [453071, 403052], [77338, 13335], [77338, 11967], [77338, 9732], [77338, 9766], [77338, 9836], [810, 15789], [810, 13971], [810, 11533], [810, 11540], [810, 11544], [11674, 450322], [11674, 549053], [11674, 411221], [11674, 379149], [11674, 446894], [621876, 119675], [621876, 170657], [621876, 170687], [621876, 206647], [621876, 222935], [57800, 86242], [57800, 290164], [57800, 3592], [57800, 30505], [57800, 206163], [34544, 58233], [34544, 62177], [34544, 47931], [34544, 59859], [34544, 60935], [950, 81003], [950, 606], [950, 411840], [950, 25556], [950, 6309], [19840, 10292], [19840, 20048], [19840, 27066], [19840, 27098], [19840, 20766], [721656, 292177], [721656, 225565], [721656, 239563], [721656, 100042], [721656, 84892], [644092, 55301], [644092, 44037], [644092, 44048], [644092, 52629], [644092, 43923], [682254, 9764], [682254, 10220], [682254, 6878], [682254, 369557], [682254, 199753], [522931, 154400], [522931, 156022], [522931, 156717], [522931, 260513], [522931, 260514], [228326, 20213], [228326, 56919], [228326, 42217], [228326, 22023], [228326, 324146], [12230, 260513], [12230, 260514], [12230, 227973], [12230, 228066], [12230, 121734], [136799, 9369], [136799, 10898], [136799, 20009], [136799, 561557], [136799, 25898], [11970, 8355], [11970, 8392], [11970, 10191], [11970, 10193], [11970, 10195], [14405, 297802], [14405, 212778], [14405, 284052], [14405, 284053], [14405, 284054], [374205, 392681], [374205, 453071], [374205, 455043], [374205, 378064], [374205, 357390], [709629, 489925], [709629, 296360], [709629, 474051], [709629, 469], [709629, 140], [278154, 606856], [278154, 730840], [278154, 568124], [278154, 38055], [278154, 324849], [38055, 10127], [38055, 10138], [38055, 10140], [38055, 10144], [38055, 10184], [12153, 443009], [12153, 51497], [12153, 2142], [12153, 3116], [12153, 9876], [11836, 269149], [11836, 335797], [11836, 476631], [11836, 449406], [11836, 608654], [364689, 8355], [364689, 8392], [364689, 8398], [364689, 8769], [364689, 10191], [13971, 277685], [13971, 296096], [13971, 335988], [13971, 426613], [13971, 342470], [10202, 109418], [10202, 109431], [10202, 109439], [10202, 109443], [10202, 109445], [37834, 2080], [37834, 2082], [37834, 4247], [37834, 4258], [37834, 4327], [647302, 4141], [647302, 2062], [647302, 2069], [647302, 3563], [647302, 3573], [62177, 13354], [62177, 13378], [62177, 13053], [62177, 13056], [62177, 11224], [797394, 10847], [797394, 9433], [797394, 40728], [797394, 9642], [797394, 10559], [14248, 29231], [14248, 5844], [14248, 460870], [14248, 38652], [14248, 28437], [353486, 207768], [353486, 185341], [353486, 125509], [353486, 137116], [353486, 203739], [648964, 26715], [648964, 26736], [648964, 25642], [648964, 25676], [648964, 14367], [2105, 587496], [2105, 474354], [2105, 474395], [2105, 520720], [2105, 514754], [390043, 410554], [390043, 339988], [390043, 413362], [390043, 421313], [390043, 321258], [46195, 10402], [46195, 10437], [46195, 22824], [46195, 22881], [46195, 29427], [454640, 9823], [454640, 9836], [454640, 9837], [454640, 8355], [454640, 8392], [454983, 11298], [454983, 10830], [454983, 13416], [454983, 13448], [454983, 12702], [27581, 76338], [27581, 75258], [27581, 97430], [27581, 83542], [27581, 83666], [14306, 10830], [14306, 11918], [14306, 11931], [14306, 7552], [14306, 6038], [38322, 23483], [38322, 18316], [38322, 18360], [38322, 19899], [38322, 16456], [643882, 338967], [643882, 268896], [643882, 271110], [643882, 336560], [643882, 299534], [10521, 6878], [10521, 369557], [10521, 175], [10521, 10885], [10521, 245], [768334, 364426], [768334, 897874], [768334, 361494], [768334, 30510], [768334, 15978], [4248, 199753], [4248, 35685], [4248, 1024], [4248, 23169], [4248, 9616], [624963, 284270], [624963, 15895], [624963, 35977], [624963, 30117], [624963, 36243], [82702, 11835], [82702, 11836], [82702, 11886], [82702, 11888], [82702, 11891], [76489, 512200], [76489, 396422], [76489, 615457], [76489, 356334], [76489, 458897], [638134, 2330], [638134, 2332], [638134, 2334], [638134, 2383], [638134, 2268], [536728, 2655], [536728, 2661], [536728, 2668], [536728, 2675], [536728, 2698], [13688, 603798], [13688, 581863], [13688, 638115], [13688, 488036], [13688, 488050], [71552, 48988], [71552, 41630], [71552, 55341], [71552, 49012], [71552, 49013], [346910, 58443], [346910, 97630], [346910, 109689], [346910, 146301], [346910, 145135], [140300, 14160], [140300, 14164], [140300, 14191], [140300, 13053], [140300, 13056], [20453, 109417], [20453, 109418], [20453, 109445], [20453, 114150], [20453, 97051], [766680, 183898], [766680, 249420], [766680, 262118], [766680, 663301], [766680, 347657], [381289, 157433], [381289, 193756], [381289, 131631], [381289, 131634], [381289, 102651], [139038, 12556], [139038, 11586], [139038, 11587], [139038, 9552], [139038, 9760], [338967, 11237], [338967, 12702], [338967, 11260], [338967, 11970], [338967, 34004], [825597, 41571], [825597, 44065], [825597, 148605], [825597, 47650], [825597, 39005], [664168, 10053], [664168, 10054], [664168, 10065], [664168, 10066], [664168, 10069], [256591, 905], [256591, 81672], [256591, 14215], [256591, 15489], [256591, 9721], [17610, 212778], [17610, 381719], [17610, 300602], [17610, 283995], [17610, 287947], [23023, 283995], [23023, 287947], [23023, 297270], [23023, 336890], [23023, 425001], [920, 10315], [920, 13053], [920, 11224], [920, 11260], [920, 11282], [590223, 35552], [590223, 1923], [590223, 85350], [590223, 43933], [590223, 613], [50646, 10646], [50646, 17814], [50646, 11522], [50646, 286554], [50646, 306], [7446, 83542], [7446, 83666], [7446, 222899], [7446, 297802], [7446, 243938], [273477, 126889], [273477, 153509], [273477, 77663], [273477, 77930], [273477, 102629], [252, 9869], [252, 9880], [252, 8326], [252, 8741], [252, 32856], [442062, 351286], [442062, 448119], [442062, 458156], [442062, 381288], [442062, 475430], [630520, 535810], [630520, 13373], [630520, 490146], [630520, 49522], [630520, 626315], [520942, 665896], [520942, 487045], [520942, 360603], [520942, 21501], [520942, 13246]]\n",
            "\n",
            "[[161, 512195], [163, 512195], [184, 512195], [186, 512195], [754, 512195], [235, 585245], [238, 585245], [252, 585245], [257, 585245], [118, 585245], [27582, 876716], [24480, 876716], [35056, 876716], [10144, 876716], [10258, 876716], [76122, 877183], [58428, 877183], [76535, 877183], [73881, 877183], [82424, 877183], [755, 550988], [787, 550988], [1656, 550988], [2048, 550988], [4141, 550988], [2447, 654974], [5375, 654974], [5825, 654974], [634, 654974], [562, 654974], [41513, 568124], [49444, 568124], [73723, 568124], [62177, 568124], [57800, 568124], [73, 459151], [756, 459151], [772, 459151], [808, 459151], [809, 459151], [2907, 639721], [2976, 639721], [2978, 639721], [2979, 639721], [1621, 639721], [589754, 589754], [775, 589754], [264038, 589754], [742922, 589754], [147469, 589754], [20453, 508943], [28178, 508943], [23521, 508943], [23168, 508943], [22794, 508943], [121734, 451048], [62211, 451048], [28, 451048], [58, 451048], [756, 451048], [3933, 805411], [6557, 805411], [2018, 805411], [9339, 805411], [7839, 805411], [663, 871964], [924, 871964], [948, 871964], [275, 871964], [4232, 871964], [201, 675445], [204, 675445], [217, 675445], [239, 675445], [244, 675445], [41513, 379686], [55301, 379686], [49530, 379686], [70160, 379686], [58496, 379686], [14813, 425909], [14849, 425909], [14873, 425909], [27769, 425909], [27793, 425909], [252, 762469], [257, 762469], [290, 762469], [293, 762469], [105, 762469], [769, 337404], [1949, 337404], [1878, 337404], [1103, 337404], [612, 337404], [28510, 846167], [28597, 846167], [22705, 846167], [22794, 846167], [27004, 846167], [3176, 772436], [3177, 772436], [1420, 772436], [1440, 772436], [1452, 772436], [935, 885458], [936, 885458], [941, 885458], [942, 885458], [943, 885458], [425, 529203], [533, 529203], [585, 529203], [1979, 529203], [163, 529203], [49026, 760747], [46332, 760747], [68734, 760747], [77877, 760747], [76617, 760747], [1965, 879163], [1969, 879163], [1830, 879163], [1878, 879163], [802, 879163], [9320, 726684], [9342, 726684], [8960, 726684], [8536, 726684], [8698, 726684], [773, 613098], [778, 613098], [787, 613098], [788, 613098], [1624, 613098], [20558, 809065], [14912, 809065], [14926, 809065], [13523, 809065], [13596, 809065], [1573, 785533], [1581, 785533], [1585, 785533], [1979, 785533], [508, 785533], [1452, 755812], [1487, 755812], [1497, 755812], [1498, 755812], [1499, 755812], [27793, 812204], [23172, 812204], [27812, 812204], [22494, 812204], [23988, 812204], [298115, 813258], [161337, 813258], [159824, 813258], [119569, 813258], [211387, 813258], [3132, 711475], [3134, 711475], [3170, 711475], [3176, 711475], [1417, 711475], [1250, 324857], [1268, 324857], [1273, 324857], [607, 324857], [559, 324857], [468, 843906], [489, 843906], [500, 843906], [510, 843906], [627, 843906], [55465, 354912], [41233, 354912], [51739, 354912], [68726, 354912], [68728, 354912], [23483, 641501], [30128, 641501], [24021, 641501], [24100, 641501], [24418, 641501], [927, 573164], [928, 573164], [935, 573164], [936, 573164], [941, 573164], [81, 347201], [919, 347201], [823, 347201], [647, 347201], [9463, 347201], [58553, 887645], [44896, 887645], [55465, 887645], [56903, 887645], [45243, 887645], [20558, 840756], [14912, 840756], [14926, 840756], [13523, 840756], [13596, 840756], [28178, 846214], [23521, 846214], [23566, 846214], [22855, 846214], [22859, 846214], [6972, 587807], [5559, 587807], [4442, 587807], [6477, 587807], [10358, 587807], [639395, 597316], [762838, 597316], [17445, 597316], [15969, 597316], [15999, 597316], [2251, 508442], [2291, 508442], [1267, 508442], [1273, 508442], [1572, 508442], [41513, 729720], [40805, 729720], [40807, 729720], [54138, 729720], [55301, 729720], [344690, 852663], [461838, 852663], [788068, 852663], [829609, 852663], [821064, 852663], [12222, 585083], [12230, 585083], [11797, 585083], [11114, 585083], [11319, 585083], [433, 449406], [920, 449406], [950, 449406], [953, 449406], [1833, 449406], [936, 522478], [941, 522478], [942, 522478], [943, 522478], [944, 522478], [10897, 617502], [8913, 617502], [8923, 617502], [8966, 617502], [10735, 617502], [47626, 680319], [59436, 680319], [65851, 680319], [52449, 680319], [65057, 680319], [13690, 400160], [13700, 400160], [12429, 400160], [15789, 400160], [12092, 400160], [427900, 482321], [464504, 482321], [164457, 482321], [225886, 482321], [195589, 482321], [2383, 531219], [2270, 531219], [2275, 531219], [2277, 531219], [1278, 531219], [83761, 623135], [19133, 623135], [391975, 623135], [16380, 623135], [177203, 623135], [2493, 678580], [6641, 678580], [5559, 678580], [4442, 678580], [6557, 678580], [4226, 763873], [4244, 763873], [4247, 763873], [4248, 763873], [4256, 763873], [218778, 550205], [294272, 550205], [298115, 550205], [126963, 550205], [140300, 550205], [58233, 834404], [60935, 834404], [57089, 834404], [59387, 834404], [39513, 834404], [3170, 741074], [808, 741074], [809, 741074], [810, 741074], [862, 741074], [13283, 857702], [13284, 857702], [13285, 857702], [14306, 857702], [14317, 857702], [7340, 768744], [8916, 768744], [8960, 768744], [8247, 768744], [8536, 768744], [944, 784500], [947, 784500], [949, 784500], [950, 784500], [953, 784500], [75802, 293660], [71880, 293660], [75736, 293660], [60405, 293660], [60304, 293660], [47626, 613583], [59436, 613583], [65851, 613583], [52449, 613583], [65057, 613583], [13189, 43074], [37950, 43074], [48650, 43074], [55721, 43074], [50698, 43074], [11838, 532067], [10494, 532067], [11527, 532067], [11596, 532067], [12599, 532067], [1573, 214756], [1452, 214756], [920, 214756], [943, 214756], [1924, 214756], [9816, 410113], [9833, 410113], [9837, 410113], [36685, 410113], [38757, 410113], [15283, 572154], [17101, 572154], [17165, 572154], [16859, 572154], [20982, 572154], [1577, 98566], [1830, 98566], [1852, 98566], [1883, 98566], [1979, 98566], [10865, 330457], [10882, 330457], [10895, 330457], [7518, 330457], [8916, 330457], [5174, 883648], [5175, 883648], [6279, 883648], [6280, 883648], [6282, 883648], [1830, 620], [1852, 620], [1858, 620], [1883, 620], [816, 620], [1830, 800497], [802, 800497], [1858, 800497], [814, 800497], [1979, 800497], [35690, 8871], [50546, 8871], [51052, 8871], [50393, 8871], [48844, 8871], [24554, 335797], [11319, 335797], [11360, 335797], [10009, 335797], [10020, 335797], [20048, 4564], [19265, 4564], [43074, 4564], [242, 4564], [244, 4564], [16511, 763532], [259720, 763532], [19238, 763532], [39871, 763532], [42176, 763532], [6933, 862], [6978, 862], [7350, 862], [6038, 862], [8916, 862], [793, 106646], [302, 106646], [307, 106646], [311, 106646], [319, 106646], [394394, 811367], [396422, 811367], [546726, 811367], [537971, 811367], [444308, 811367], [621, 585], [562, 585], [643, 585], [579, 585], [585, 585], [10358, 18785], [12133, 18785], [12138, 18785], [9276, 18785], [8836, 18785], [7182, 808], [8656, 808], [7518, 808], [8316, 808], [8355, 808], [10320, 800823], [8398, 800823], [8617, 800823], [9285, 800823], [9291, 800823], [9007, 2978], [6479, 2978], [10323, 2978], [10349, 2978], [12142, 2978], [133174, 774456], [53530, 774456], [1732, 774456], [252376, 774456], [46743, 774456], [1621, 882812], [4141, 882812], [2062, 882812], [2069, 882812], [3563, 882812], [12155, 454626], [11850, 454626], [11852, 454626], [11864, 454626], [11886, 454626], [9021, 360920], [9023, 360920], [9030, 360920], [9038, 360920], [10320, 360920], [12138, 384018], [11802, 384018], [11887, 384018], [11888, 384018], [10437, 384018], [13649, 773660], [13655, 773660], [13680, 773660], [13682, 773660], [13688, 773660], [55465, 257344], [44826, 257344], [44896, 257344], [86834, 257344], [87101, 257344], [616, 383498], [617, 383498], [559, 383498], [634, 383498], [579, 383498], [11459, 569094], [18861, 569094], [18882, 569094], [21422, 569094], [18095, 569094], [23437, 347626], [19840, 347626], [10007, 347626], [10014, 347626], [10050, 347626], [786705, 786705], [722778, 786705], [468224, 786705], [13597, 786705], [11977, 786705], [557, 772], [558, 772], [562, 772], [594, 772], [693, 772], [15384, 479455], [13186, 479455], [13195, 479455], [11619, 479455], [11632, 479455], [26710, 607259], [665488, 607259], [41659, 607259], [182972, 607259], [172760, 607259], [37797, 57214], [35558, 57214], [41446, 57214], [20178, 57214], [30636, 57214], [11238, 654028], [10719, 654028], [15969, 654028], [14813, 654028], [14873, 654028], [8882, 653349], [15212, 653349], [17899, 653349], [9696, 653349], [11025, 653349], [591, 662237], [671, 662237], [600, 662237], [13, 662237], [28, 662237], [670, 49519], [672, 49519], [673, 49519], [693, 49519], [404, 49519], [11970, 301528], [9732, 301528], [9567, 301528], [8467, 301528], [8487, 301528], [18009, 11932], [41446, 11932], [24001, 11932], [24021, 11932], [23202, 11932], [461928, 593910], [506574, 593910], [407655, 593910], [606117, 593910], [556574, 593910], [26956, 826914], [26954, 826914], [899415, 826914], [859912, 826914], [26960, 826914], [149871, 75624], [150213, 75624], [110420, 75624], [161337, 75624], [137227, 75624], [15789, 400155], [11544, 400155], [12222, 400155], [12230, 400155], [16366, 400155], [10995, 72105], [10996, 72105], [9472, 72105], [8065, 72105], [10895, 72105], [15512, 863], [13690, 863], [13700, 863], [8836, 863], [8839, 863], [579, 425], [580, 425], [585, 425], [587, 425], [604, 425], [61979, 38365], [72105, 38365], [83770, 38365], [10521, 38365], [10527, 38365], [953, 177572], [956, 177572], [979, 177572], [984, 177572], [2109, 177572], [146, 776909], [153, 776909], [162, 776909], [165, 776909], [194, 776909], [9598, 438695], [10198, 438695], [8587, 438695], [10340, 438695], [10380, 438695], [4951, 45682], [4964, 45682], [2830, 45682], [2898, 45682], [2899, 45682], [18649, 112679], [3065, 112679], [22328, 112679], [28169, 112679], [36642, 112679], [13668, 18240], [19585, 18240], [19899, 18240], [26648, 18240], [21208, 18240], [9798, 50546], [10349, 50546], [9266, 50546], [9280, 50546], [9291, 50546], [509635, 578908], [537996, 578908], [642208, 578908], [447404, 578908], [454626, 578908], [802, 81774], [805, 81774], [826, 81774], [841, 81774], [855, 81774], [20329, 809], [20352, 809], [25396, 809], [19277, 809], [19286, 809], [20178, 26123], [19840, 26123], [18239, 26123], [7326, 26123], [7342, 26123], [3050, 727745], [3177, 727745], [4148, 727745], [1633, 727745], [1646, 727745], [17130, 677638], [318121, 677638], [10859, 677638], [2323, 677638], [12834, 677638], [74997, 446893], [10527, 446893], [10576, 446893], [10651, 446893], [10306, 446893], [326, 10358], [380, 10358], [393, 10358], [277, 10358], [285, 10358], [10906, 9820], [10944, 9820], [10950, 9820], [10956, 9820], [9603, 9820], [11220, 43347], [390053, 43347], [49950, 43347], [218275, 43347], [38684, 43347], [9480, 35], [9486, 35], [9487, 35], [9272, 35], [9716, 35], [101907, 615677], [111969, 615677], [141052, 615677], [150540, 615677], [103269, 615677], [280617, 664236], [300321, 664236], [134147, 664236], [27549, 664236], [84488, 664236], [591, 118], [550, 118], [563, 118], [578, 118], [302, 118], [6978, 512200], [5174, 512200], [5175, 512200], [5503, 512200], [9021, 512200], [11134, 193893], [11186, 193893], [11319, 193893], [11324, 193893], [11353, 193893], [327, 2062], [350, 2062], [393, 2062], [293, 2062], [111, 2062], [18162, 45243], [10527, 45243], [10610, 45243], [10634, 45243], [11631, 45243], [59762, 9637], [570169, 9637], [68714, 9637], [23104, 9637], [16939, 9637], [393345, 643586], [346364, 643586], [441701, 643586], [400157, 643586], [439079, 643586], [1715, 893204], [16520, 893204], [210479, 893204], [11773, 893204], [505063, 893204], [292177, 109418], [210769, 109418], [214030, 109418], [297222, 109418], [301528, 109418], [82702, 109439], [172385, 109439], [166426, 109439], [166428, 109439], [181808, 109439], [11361, 412117], [10009, 412117], [10020, 412117], [10028, 412117], [10040, 412117], [9659, 11249], [16258, 11249], [16288, 11249], [16140, 11249], [16187, 11249], [527435, 5255], [431530, 5255], [555850, 5255], [549053, 5255], [450322, 5255], [299687, 41154], [299534, 41154], [297222, 41154], [234004, 41154], [260372, 41154], [451713, 87428], [20009, 87428], [701062, 87428], [63493, 87428], [157115, 87428], [13188, 662546], [9647, 662546], [48873, 662546], [850, 662546], [879111, 662546], [763391, 785516], [746053, 785516], [877164, 785516], [882851, 785516], [795422, 785516], [230896, 615678], [232842, 615678], [286567, 615678], [228088, 615678], [225145, 615678], [26389, 533535], [127585, 533535], [98566, 533535], [77951, 533535], [59965, 533535], [10380, 8355], [8413, 8355], [9806, 8355], [9836, 8355], [9837, 8355], [11797, 76492], [11104, 76492], [11114, 76492], [11319, 76492], [11360, 76492], [316023, 785539], [339987, 785539], [412520, 785539], [342878, 785539], [424694, 785539], [64807, 9023], [10521, 9023], [10527, 9023], [10530, 9023], [10555, 9023], [40723, 454699], [29778, 454699], [252171, 454699], [29794, 454699], [218784, 454699], [12536, 82690], [12556, 82690], [11090, 82690], [10748, 82690], [10756, 82690], [19576, 607383], [19580, 607383], [19585, 607383], [22538, 607383], [22582, 607383], [8649, 14849], [14054, 14849], [12187, 14849], [990, 14849], [12560, 14849], [14912, 739542], [14919, 739542], [14926, 739542], [13523, 739542], [13596, 739542], [20982, 530079], [22537, 530079], [23049, 530079], [46304, 530079], [83088, 530079], [11845, 4247], [11852, 4247], [11859, 4247], [11887, 4247], [11891, 4247], [12092, 260514], [14906, 260514], [11230, 260514], [11238, 260514], [13761, 260514], [10555, 159824], [10567, 159824], [10577, 159824], [10578, 159824], [10579, 159824], [292431, 225886], [464504, 225886], [454640, 225886], [368031, 225886], [467012, 225886], [10140, 287947], [10184, 287947], [10193, 287947], [10198, 287947], [10510, 287947], [2270, 10201], [2277, 10201], [2280, 10201], [2284, 10201], [2300, 10201], [315843, 675353], [74616, 675353], [83811, 675353], [27867, 675353], [13273, 675353], [9480, 10193], [9486, 10193], [9487, 10193], [8065, 10193], [10803, 10193], [15544, 291870], [3179, 291870], [1825, 291870], [11971, 291870], [340357, 291870], [464889, 726739], [471506, 726739], [458897, 726739], [452773, 726739], [459159, 726739], [106, 788905], [111, 788905], [114, 788905], [115, 788905], [116, 788905], [14128, 270946], [14160, 270946], [14164, 270946], [14177, 270946], [11231, 270946], [575813, 16996], [604578, 16996], [470044, 16996], [449132, 16996], [449176, 16996], [7446, 20222], [7453, 20222], [7459, 20222], [7484, 20222], [6916, 20222], [242828, 36728], [290271, 36728], [150540, 36728], [163394, 36728], [161337, 36728], [14433, 232672], [18222, 232672], [11982, 232672], [32302, 232672], [1443, 232672], [62838, 676842], [75802, 676842], [60816, 676842], [71859, 676842], [71880, 676842], [10054, 41630], [10096, 41630], [11430, 41630], [11457, 41630], [11459, 41630], [5595, 621870], [13768, 621870], [506815, 621870], [58159, 621870], [30159, 621870], [615678, 223702], [667520, 223702], [716799, 223702], [739542, 223702], [38055, 223702], [346685, 496243], [274167, 496243], [200085, 496243], [207933, 496243], [548473, 496243], [52451, 577242], [65057, 577242], [68179, 577242], [70587, 577242], [67900, 577242], [585244, 576393], [741434, 576393], [761898, 576393], [570503, 576393], [447185, 576393], [333622, 433422], [399055, 433422], [330081, 433422], [417859, 433422], [409421, 433422], [12222, 14160], [12225, 14160], [12227, 14160], [12230, 14160], [12556, 14160], [345937, 8920], [30870, 8920], [471880, 8920], [31518, 8920], [60800, 8920], [892, 272818], [1018, 272818], [403, 272818], [404, 272818], [406, 272818], [12606, 802504], [2210, 802504], [15624, 802504], [11591, 802504], [13400, 802504], [10748, 554596], [10756, 554596], [10760, 554596], [10771, 554596], [10776, 554596], [10020, 49013], [10030, 49013], [10040, 49013], [10061, 49013], [11411, 49013], [230170, 857910], [14244, 857910], [432883, 857910], [364089, 857910], [590872, 857910], [2020, 375794], [487476, 375794], [122293, 375794], [28512, 375794], [6071, 375794], [404368, 481084], [548473, 481084], [524434, 481084], [635302, 481084], [621870, 481084], [9880, 20048], [9437, 20048], [9445, 20048], [9472, 20048], [9475, 20048], [874122, 734265], [874157, 734265], [880520, 734265], [882956, 734265], [882968, 734265], [87567, 105965], [1945, 105965], [8346, 105965], [9546, 105965], [290762, 105965], [13805, 9487], [14560, 9487], [12092, 9487], [15789, 9487], [14906, 9487], [393306, 11688], [291157, 11688], [55538, 11688], [364540, 11688], [104237, 11688], [168615, 9948], [33172, 9948], [36696, 9948], [49361, 9948], [29918, 9948], [9732, 953], [9738, 953], [10340, 953], [10380, 953], [10386, 953], [2640, 351694], [2661, 351694], [2668, 351694], [2698, 351694], [2758, 351694], [28178, 150540], [23521, 150540], [10009, 150540], [10014, 150540], [10020, 150540], [11887, 269149], [10431, 269149], [10471, 269149], [10494, 269149], [11544, 269149], [12429, 404368], [12448, 404368], [14128, 404368], [14160, 404368], [14164, 404368], [187012, 778814], [4249, 778814], [232574, 778814], [82250, 778814], [123163, 778814], [83746, 594328], [45851, 594328], [121171, 594328], [67169, 594328], [67163, 594328], [11636, 9502], [11649, 9502], [14128, 9502], [14160, 9502], [12092, 9502], [8337, 39513], [10198, 39513], [10200, 39513], [10246, 39513], [6795, 39513], [543583, 10192], [24102, 10192], [366668, 10192], [17700, 10192], [9994, 10192], [4964, 23988], [6589, 23988], [7446, 23988], [7459, 23988], [5175, 23988], [10830, 93456], [10865, 93456], [10882, 93456], [10895, 93456], [11918, 93456], [696, 37786], [22798, 37786], [467239, 37786], [6619, 37786], [534235, 37786], [15653, 4258], [22538, 4258], [9705, 4258], [9593, 4258], [9595, 4258], [46614, 542178], [75090, 542178], [328796, 542178], [92432, 542178], [60991, 542178], [39105, 553835], [39106, 553835], [39107, 553835], [39108, 553835], [39144, 553835], [3989, 351819], [164, 351819], [109729, 351819], [9605, 351819], [291270, 351819], [10550, 19908], [10588, 19908], [10607, 19908], [10651, 19908], [10652, 19908], [305470, 660982], [308639, 660982], [312221, 660982], [248574, 660982], [241848, 660982], [150540, 134374], [139038, 134374], [100402, 134374], [168530, 134374], [102899, 134374], [138103, 484718], [185341, 484718], [125509, 484718], [137116, 484718], [199534, 484718], [342588, 453071], [401887, 453071], [326359, 453071], [401043, 453071], [403052, 453071], [13335, 77338], [11967, 77338], [9732, 77338], [9766, 77338], [9836, 77338], [15789, 810], [13971, 810], [11533, 810], [11540, 810], [11544, 810], [450322, 11674], [549053, 11674], [411221, 11674], [379149, 11674], [446894, 11674], [119675, 621876], [170657, 621876], [170687, 621876], [206647, 621876], [222935, 621876], [86242, 57800], [290164, 57800], [3592, 57800], [30505, 57800], [206163, 57800], [58233, 34544], [62177, 34544], [47931, 34544], [59859, 34544], [60935, 34544], [81003, 950], [606, 950], [411840, 950], [25556, 950], [6309, 950], [10292, 19840], [20048, 19840], [27066, 19840], [27098, 19840], [20766, 19840], [292177, 721656], [225565, 721656], [239563, 721656], [100042, 721656], [84892, 721656], [55301, 644092], [44037, 644092], [44048, 644092], [52629, 644092], [43923, 644092], [9764, 682254], [10220, 682254], [6878, 682254], [369557, 682254], [199753, 682254], [154400, 522931], [156022, 522931], [156717, 522931], [260513, 522931], [260514, 522931], [20213, 228326], [56919, 228326], [42217, 228326], [22023, 228326], [324146, 228326], [260513, 12230], [260514, 12230], [227973, 12230], [228066, 12230], [121734, 12230], [9369, 136799], [10898, 136799], [20009, 136799], [561557, 136799], [25898, 136799], [8355, 11970], [8392, 11970], [10191, 11970], [10193, 11970], [10195, 11970], [297802, 14405], [212778, 14405], [284052, 14405], [284053, 14405], [284054, 14405], [392681, 374205], [453071, 374205], [455043, 374205], [378064, 374205], [357390, 374205], [489925, 709629], [296360, 709629], [474051, 709629], [469, 709629], [140, 709629], [606856, 278154], [730840, 278154], [568124, 278154], [38055, 278154], [324849, 278154], [10127, 38055], [10138, 38055], [10140, 38055], [10144, 38055], [10184, 38055], [443009, 12153], [51497, 12153], [2142, 12153], [3116, 12153], [9876, 12153], [269149, 11836], [335797, 11836], [476631, 11836], [449406, 11836], [608654, 11836], [8355, 364689], [8392, 364689], [8398, 364689], [8769, 364689], [10191, 364689], [277685, 13971], [296096, 13971], [335988, 13971], [426613, 13971], [342470, 13971], [109418, 10202], [109431, 10202], [109439, 10202], [109443, 10202], [109445, 10202], [2080, 37834], [2082, 37834], [4247, 37834], [4258, 37834], [4327, 37834], [4141, 647302], [2062, 647302], [2069, 647302], [3563, 647302], [3573, 647302], [13354, 62177], [13378, 62177], [13053, 62177], [13056, 62177], [11224, 62177], [10847, 797394], [9433, 797394], [40728, 797394], [9642, 797394], [10559, 797394], [29231, 14248], [5844, 14248], [460870, 14248], [38652, 14248], [28437, 14248], [207768, 353486], [185341, 353486], [125509, 353486], [137116, 353486], [203739, 353486], [26715, 648964], [26736, 648964], [25642, 648964], [25676, 648964], [14367, 648964], [587496, 2105], [474354, 2105], [474395, 2105], [520720, 2105], [514754, 2105], [410554, 390043], [339988, 390043], [413362, 390043], [421313, 390043], [321258, 390043], [10402, 46195], [10437, 46195], [22824, 46195], [22881, 46195], [29427, 46195], [9823, 454640], [9836, 454640], [9837, 454640], [8355, 454640], [8392, 454640], [11298, 454983], [10830, 454983], [13416, 454983], [13448, 454983], [12702, 454983], [76338, 27581], [75258, 27581], [97430, 27581], [83542, 27581], [83666, 27581], [10830, 14306], [11918, 14306], [11931, 14306], [7552, 14306], [6038, 14306], [23483, 38322], [18316, 38322], [18360, 38322], [19899, 38322], [16456, 38322], [338967, 643882], [268896, 643882], [271110, 643882], [336560, 643882], [299534, 643882], [6878, 10521], [369557, 10521], [175, 10521], [10885, 10521], [245, 10521], [364426, 768334], [897874, 768334], [361494, 768334], [30510, 768334], [15978, 768334], [199753, 4248], [35685, 4248], [1024, 4248], [23169, 4248], [9616, 4248], [284270, 624963], [15895, 624963], [35977, 624963], [30117, 624963], [36243, 624963], [11835, 82702], [11836, 82702], [11886, 82702], [11888, 82702], [11891, 82702], [512200, 76489], [396422, 76489], [615457, 76489], [356334, 76489], [458897, 76489], [2330, 638134], [2332, 638134], [2334, 638134], [2383, 638134], [2268, 638134], [2655, 536728], [2661, 536728], [2668, 536728], [2675, 536728], [2698, 536728], [603798, 13688], [581863, 13688], [638115, 13688], [488036, 13688], [488050, 13688], [48988, 71552], [41630, 71552], [55341, 71552], [49012, 71552], [49013, 71552], [58443, 346910], [97630, 346910], [109689, 346910], [146301, 346910], [145135, 346910], [14160, 140300], [14164, 140300], [14191, 140300], [13053, 140300], [13056, 140300], [109417, 20453], [109418, 20453], [109445, 20453], [114150, 20453], [97051, 20453], [183898, 766680], [249420, 766680], [262118, 766680], [663301, 766680], [347657, 766680], [157433, 381289], [193756, 381289], [131631, 381289], [131634, 381289], [102651, 381289], [12556, 139038], [11586, 139038], [11587, 139038], [9552, 139038], [9760, 139038], [11237, 338967], [12702, 338967], [11260, 338967], [11970, 338967], [34004, 338967], [41571, 825597], [44065, 825597], [148605, 825597], [47650, 825597], [39005, 825597], [10053, 664168], [10054, 664168], [10065, 664168], [10066, 664168], [10069, 664168], [905, 256591], [81672, 256591], [14215, 256591], [15489, 256591], [9721, 256591], [212778, 17610], [381719, 17610], [300602, 17610], [283995, 17610], [287947, 17610], [283995, 23023], [287947, 23023], [297270, 23023], [336890, 23023], [425001, 23023], [10315, 920], [13053, 920], [11224, 920], [11260, 920], [11282, 920], [35552, 590223], [1923, 590223], [85350, 590223], [43933, 590223], [613, 590223], [10646, 50646], [17814, 50646], [11522, 50646], [286554, 50646], [306, 50646], [83542, 7446], [83666, 7446], [222899, 7446], [297802, 7446], [243938, 7446], [126889, 273477], [153509, 273477], [77663, 273477], [77930, 273477], [102629, 273477], [9869, 252], [9880, 252], [8326, 252], [8741, 252], [32856, 252], [351286, 442062], [448119, 442062], [458156, 442062], [381288, 442062], [475430, 442062], [535810, 630520], [13373, 630520], [490146, 630520], [49522, 630520], [626315, 630520], [665896, 520942], [487045, 520942], [360603, 520942], [21501, 520942], [13246, 520942]]\n"
          ]
        }
      ]
    },
    {
      "cell_type": "code",
      "metadata": {
        "colab": {
          "base_uri": "https://localhost:8080/"
        },
        "id": "TRA1gTLZylwU",
        "outputId": "5e2a2366-1655-4b01-b4b2-5a8d2ad6cbdf"
      },
      "source": [
        "len_cat=len(catalog)\n",
        "len_catrv=len(catalog_rv)\n",
        "var=-1\n",
        "for dia in catalog:\n",
        "  var+=1\n",
        "  var_rv=-1\n",
        "  for bi in catalog_rv:\n",
        "    var_rv+=1\n",
        "    if(dia==bi):\n",
        "      if(dia[0]<dia[1]):\n",
        "        catalog.remove(catalog[var_rv])\n",
        "      else:\n",
        "        catalog.remove(catalog[var])"
      ],
      "execution_count": null,
      "outputs": [
        {
          "output_type": "stream",
          "name": "stdout",
          "text": [
            "1497\n"
          ]
        }
      ]
    },
    {
      "cell_type": "code",
      "metadata": {
        "id": "I71DhVype1KU"
      },
      "source": [
        "sim_pairs= pd.DataFrame(catalog,columns=['Movie_id','Sim_id'])"
      ],
      "execution_count": null,
      "outputs": []
    },
    {
      "cell_type": "code",
      "metadata": {
        "colab": {
          "base_uri": "https://localhost:8080/"
        },
        "id": "BbPZzYa8fDBN",
        "outputId": "8081c067-734d-41f4-ff43-b144d9eec071"
      },
      "source": [
        "sim_pairs.shape"
      ],
      "execution_count": null,
      "outputs": [
        {
          "output_type": "execute_result",
          "data": {
            "text/plain": [
              "(1497, 2)"
            ]
          },
          "metadata": {},
          "execution_count": 85
        }
      ]
    },
    {
      "cell_type": "code",
      "metadata": {
        "colab": {
          "base_uri": "https://localhost:8080/",
          "height": 423
        },
        "id": "1p4HCKp5fJMY",
        "outputId": "015af689-f0d4-444d-e7e2-de8c9eebe6d8"
      },
      "source": [
        "sim_pairs"
      ],
      "execution_count": null,
      "outputs": [
        {
          "output_type": "execute_result",
          "data": {
            "text/html": [
              "<div>\n",
              "<style scoped>\n",
              "    .dataframe tbody tr th:only-of-type {\n",
              "        vertical-align: middle;\n",
              "    }\n",
              "\n",
              "    .dataframe tbody tr th {\n",
              "        vertical-align: top;\n",
              "    }\n",
              "\n",
              "    .dataframe thead th {\n",
              "        text-align: right;\n",
              "    }\n",
              "</style>\n",
              "<table border=\"1\" class=\"dataframe\">\n",
              "  <thead>\n",
              "    <tr style=\"text-align: right;\">\n",
              "      <th></th>\n",
              "      <th>Movie_id</th>\n",
              "      <th>Sim_id</th>\n",
              "    </tr>\n",
              "  </thead>\n",
              "  <tbody>\n",
              "    <tr>\n",
              "      <th>0</th>\n",
              "      <td>512195</td>\n",
              "      <td>161</td>\n",
              "    </tr>\n",
              "    <tr>\n",
              "      <th>1</th>\n",
              "      <td>512195</td>\n",
              "      <td>163</td>\n",
              "    </tr>\n",
              "    <tr>\n",
              "      <th>2</th>\n",
              "      <td>512195</td>\n",
              "      <td>184</td>\n",
              "    </tr>\n",
              "    <tr>\n",
              "      <th>3</th>\n",
              "      <td>512195</td>\n",
              "      <td>186</td>\n",
              "    </tr>\n",
              "    <tr>\n",
              "      <th>4</th>\n",
              "      <td>512195</td>\n",
              "      <td>754</td>\n",
              "    </tr>\n",
              "    <tr>\n",
              "      <th>...</th>\n",
              "      <td>...</td>\n",
              "      <td>...</td>\n",
              "    </tr>\n",
              "    <tr>\n",
              "      <th>1492</th>\n",
              "      <td>520942</td>\n",
              "      <td>665896</td>\n",
              "    </tr>\n",
              "    <tr>\n",
              "      <th>1493</th>\n",
              "      <td>520942</td>\n",
              "      <td>487045</td>\n",
              "    </tr>\n",
              "    <tr>\n",
              "      <th>1494</th>\n",
              "      <td>520942</td>\n",
              "      <td>360603</td>\n",
              "    </tr>\n",
              "    <tr>\n",
              "      <th>1495</th>\n",
              "      <td>520942</td>\n",
              "      <td>21501</td>\n",
              "    </tr>\n",
              "    <tr>\n",
              "      <th>1496</th>\n",
              "      <td>520942</td>\n",
              "      <td>13246</td>\n",
              "    </tr>\n",
              "  </tbody>\n",
              "</table>\n",
              "<p>1497 rows × 2 columns</p>\n",
              "</div>"
            ],
            "text/plain": [
              "      Movie_id  Sim_id\n",
              "0       512195     161\n",
              "1       512195     163\n",
              "2       512195     184\n",
              "3       512195     186\n",
              "4       512195     754\n",
              "...        ...     ...\n",
              "1492    520942  665896\n",
              "1493    520942  487045\n",
              "1494    520942  360603\n",
              "1495    520942   21501\n",
              "1496    520942   13246\n",
              "\n",
              "[1497 rows x 2 columns]"
            ]
          },
          "metadata": {},
          "execution_count": 88
        }
      ]
    },
    {
      "cell_type": "code",
      "metadata": {
        "id": "_T_z5lwxeu_Y"
      },
      "source": [
        "columns_cat = ['Movie_id', 'Sim_id']\n",
        "tmdb_sim= sim_pairs[columns_cat].apply(lambda row: ','.join(row.values.astype(str)), axis=1)"
      ],
      "execution_count": null,
      "outputs": []
    },
    {
      "cell_type": "code",
      "metadata": {
        "colab": {
          "base_uri": "https://localhost:8080/"
        },
        "id": "VSNk24m3YreN",
        "outputId": "09113ccf-e3a5-4cab-9110-45eea8d3f5ce"
      },
      "source": [
        "tmdb_sim"
      ],
      "execution_count": null,
      "outputs": [
        {
          "output_type": "execute_result",
          "data": {
            "text/plain": [
              "0          512195,161\n",
              "1          512195,163\n",
              "2          512195,184\n",
              "3          512195,186\n",
              "4          512195,754\n",
              "            ...      \n",
              "1492    520942,665896\n",
              "1493    520942,487045\n",
              "1494    520942,360603\n",
              "1495     520942,21501\n",
              "1496     520942,13246\n",
              "Length: 1497, dtype: object"
            ]
          },
          "metadata": {},
          "execution_count": 90
        }
      ]
    },
    {
      "cell_type": "code",
      "metadata": {
        "colab": {
          "base_uri": "https://localhost:8080/",
          "height": 17
        },
        "id": "D4He0AZkJlJE",
        "outputId": "8c17c4c0-706e-42f8-f1ea-9a8b7558ce25"
      },
      "source": [
        "tmdb_sim.to_csv(\"movie_ID_sim_movie_ID.csv\")\n",
        "from google.colab import files\n",
        "files.download(\"movie_ID_sim_movie_ID.csv\")"
      ],
      "execution_count": null,
      "outputs": [
        {
          "output_type": "display_data",
          "data": {
            "application/javascript": [
              "\n",
              "    async function download(id, filename, size) {\n",
              "      if (!google.colab.kernel.accessAllowed) {\n",
              "        return;\n",
              "      }\n",
              "      const div = document.createElement('div');\n",
              "      const label = document.createElement('label');\n",
              "      label.textContent = `Downloading \"${filename}\": `;\n",
              "      div.appendChild(label);\n",
              "      const progress = document.createElement('progress');\n",
              "      progress.max = size;\n",
              "      div.appendChild(progress);\n",
              "      document.body.appendChild(div);\n",
              "\n",
              "      const buffers = [];\n",
              "      let downloaded = 0;\n",
              "\n",
              "      const channel = await google.colab.kernel.comms.open(id);\n",
              "      // Send a message to notify the kernel that we're ready.\n",
              "      channel.send({})\n",
              "\n",
              "      for await (const message of channel.messages) {\n",
              "        // Send a message to notify the kernel that we're ready.\n",
              "        channel.send({})\n",
              "        if (message.buffers) {\n",
              "          for (const buffer of message.buffers) {\n",
              "            buffers.push(buffer);\n",
              "            downloaded += buffer.byteLength;\n",
              "            progress.value = downloaded;\n",
              "          }\n",
              "        }\n",
              "      }\n",
              "      const blob = new Blob(buffers, {type: 'application/binary'});\n",
              "      const a = document.createElement('a');\n",
              "      a.href = window.URL.createObjectURL(blob);\n",
              "      a.download = filename;\n",
              "      div.appendChild(a);\n",
              "      a.click();\n",
              "      div.remove();\n",
              "    }\n",
              "  "
            ],
            "text/plain": [
              "<IPython.core.display.Javascript object>"
            ]
          },
          "metadata": {}
        },
        {
          "output_type": "display_data",
          "data": {
            "application/javascript": [
              "download(\"download_3501256a-1e44-477a-b5cd-3d35c2dee440\", \"movie_ID_sim_movie_ID.csv\", 27783)"
            ],
            "text/plain": [
              "<IPython.core.display.Javascript object>"
            ]
          },
          "metadata": {}
        }
      ]
    }
  ]
}